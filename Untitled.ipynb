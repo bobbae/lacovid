{
 "cells": [
  {
   "cell_type": "code",
   "execution_count": 1,
   "metadata": {},
   "outputs": [
    {
     "data": {
      "text/plain": [
       "'3.8.2'"
      ]
     },
     "execution_count": 1,
     "metadata": {},
     "output_type": "execute_result"
    }
   ],
   "source": [
    "# Settings for notebook\n",
    "from IPython.core.interactiveshell import InteractiveShell\n",
    "InteractiveShell.ast_node_interactivity = \"all\"\n",
    "# Show Python version\n",
    "import platform\n",
    "platform.python_version()"
   ]
  },
  {
   "cell_type": "code",
   "execution_count": 2,
   "metadata": {},
   "outputs": [],
   "source": [
    "try:\n",
    "    import scrapy\n",
    "except:\n",
    "    !pip install scrapy\n",
    "    import scrapy\n",
    "from scrapy.crawler import CrawlerProcess"
   ]
  },
  {
   "cell_type": "code",
   "execution_count": 32,
   "metadata": {},
   "outputs": [],
   "source": [
    "import json\n",
    "import logging\n",
    "\n",
    "class QuotesSpider(scrapy.Spider):\n",
    "    name = \"quotes\"\n",
    "    start_urls = [\n",
    "        'http://www.ph.lacounty.gov/media/Coronavirus/locations.htm'\n",
    "    ]\n",
    "    custom_settings = {\n",
    "        'LOG_LEVEL': logging.WARNING,\n",
    "        'FEED_FORMAT':'json',                                 # Used for pipeline 2\n",
    "        'FEED_URI': 'quoteresult.json'                        # Used for pipeline 2\n",
    "    }\n",
    "    \n",
    "    def parse(self, response):\n",
    "        cities = response.xpath('//table/tr/td[1]').extract()\n",
    "        cases = response.xpath('//table/tr/td[2]').extract()\n",
    "        rates = response.xpath('//table/tr/td[3]').extract()\n",
    "        cities = list(map(lambda x: x.replace('<td>','').replace('</td>',''), cities))\n",
    "        cases = list(map(lambda x: x.replace('<td>','').replace('</td>',''), cases))\n",
    "        rates = list(map(lambda x: x.replace('<td>','').replace('</td>',''), rates))\n",
    "        alist=[]\n",
    "        lacitiesdata = { \"lacitiescovid\": alist }\n",
    "        i = 0\n",
    "        for city in cities:\n",
    "            if i<28:\n",
    "                i=i+1\n",
    "                continue\n",
    "            arec = { 'city': city, 'cases': cases[i] , 'rate':rates[i]}\n",
    "            i=i+1\n",
    "            alist.append(arec)\n",
    "        with open('lacovidinfo.json', 'w') as jsonfile:\n",
    "            print(json.dump(lacitiesdata, jsonfile, indent=4))\n",
    "        alist"
   ]
  },
  {
   "cell_type": "code",
   "execution_count": 7,
   "metadata": {},
   "outputs": [
    {
     "name": "stderr",
     "output_type": "stream",
     "text": [
      "2020-04-22 16:27:46 [scrapy.utils.log] INFO: Scrapy 1.8.0 started (bot: scrapybot)\n",
      "2020-04-22 16:27:46 [scrapy.utils.log] INFO: Versions: lxml 4.5.0.0, libxml2 2.9.5, cssselect 1.1.0, parsel 1.5.2, w3lib 1.21.0, Twisted 20.3.0, Python 3.8.2 (tags/v3.8.2:7b3ab59, Feb 25 2020, 23:03:10) [MSC v.1916 64 bit (AMD64)], pyOpenSSL 19.1.0 (OpenSSL 1.1.1f  31 Mar 2020), cryptography 2.9, Platform Windows-10-10.0.18362-SP0\n",
      "2020-04-22 16:27:46 [scrapy.crawler] INFO: Overridden settings: {'FEED_FORMAT': 'json', 'FEED_URI': 'quoteresult.json', 'LOG_LEVEL': 30, 'USER_AGENT': 'Mozilla/4.0 (compatible; MSIE 7.0; Windows NT 5.1)'}\n"
     ]
    },
    {
     "data": {
      "text/plain": [
       "<Deferred at 0x2505b0d0dc0>"
      ]
     },
     "execution_count": 7,
     "metadata": {},
     "output_type": "execute_result"
    },
    {
     "name": "stdout",
     "output_type": "stream",
     "text": [
      "None\n"
     ]
    }
   ],
   "source": [
    "process = CrawlerProcess({\n",
    "    'USER_AGENT': 'Mozilla/4.0 (compatible; MSIE 7.0; Windows NT 5.1)'\n",
    "})\n",
    "\n",
    "process.crawl(QuotesSpider)\n",
    "process.start()\n"
   ]
  },
  {
   "cell_type": "code",
   "execution_count": 132,
   "metadata": {},
   "outputs": [
    {
     "name": "stdout",
     "output_type": "stream",
     "text": [
      "                                      city  cases    rate\n",
      "0            Los Angeles - Adams-Normandie   19.0  231.65\n",
      "1                     Los Angeles - Alsace   23.0  184.81\n",
      "2    Los Angeles - Angeles National Forest    0.0    0.00\n",
      "3           Los Angeles - Angelino Heights    6.0  239.81\n",
      "4                     Los Angeles - Arleta   66.0  192.03\n",
      "5            Los Angeles - Atwater Village   19.0  129.55\n",
      "6              Los Angeles - Baldwin Hills   46.0  147.79\n",
      "7                    Los Angeles - Bel Air   27.0  320.32\n",
      "8              Los Angeles - Beverly Crest   31.0  247.50\n",
      "9                Los Angeles - Beverlywood   30.0  227.74\n",
      "10             Los Angeles - Boyle Heights  129.0  148.47\n",
      "11                 Los Angeles - Brentwood   62.0  200.29\n",
      "12                 Los Angeles - Brookside    0.0    0.00\n",
      "13          Los Angeles - Cadillac-Corning   12.0  168.52\n",
      "14               Los Angeles - Canoga Park  167.0  255.79\n",
      "15                   Los Angeles - Carthay   56.0  389.89\n",
      "16                   Los Angeles - Central   81.0  207.73\n",
      "17              Los Angeles - Century City   30.0  234.52\n",
      "18        Los Angeles - Century Palms/Cove   57.0  168.81\n",
      "19                Los Angeles - Chatsworth   58.0  156.50\n",
      "20             Los Angeles - Cheviot Hills   15.0  163.56\n",
      "21        Los Angeles - Cloverdale/Cochran   23.0  158.04\n",
      "22         Los Angeles - Country Club Park   50.0  329.97\n",
      "23         Los Angeles - Crenshaw District   43.0  310.94\n",
      "24                 Los Angeles - Crestview   57.0  501.41\n",
      "25                   Los Angeles - Del Rey   43.0  143.64\n",
      "26                  Los Angeles - Downtown   41.0  149.05\n",
      "27                Los Angeles - Eagle Rock   68.0  171.76\n",
      "28            Los Angeles - East Hollywood   91.0  310.72\n",
      "29                 Los Angeles - Echo Park   14.0   98.20\n",
      "30                 Los Angeles - El Sereno   70.0  167.43\n",
      "31              Los Angeles - Elysian Park    7.0  122.55\n",
      "32            Los Angeles - Elysian Valley   16.0  157.31\n",
      "33                    Los Angeles - Encino   73.0  161.60\n",
      "34           Los Angeles - Exposition Park   86.0  191.46\n",
      "35      Los Angeles - Figueroa Park Square   16.0  183.47\n",
      "36        Los Angeles - Florence-Firestone   86.0  181.26\n",
      "37             Los Angeles - Glassell Park   92.0  291.10\n",
      "38            Los Angeles - Gramercy Place   20.0  185.80\n",
      "39             Los Angeles - Granada Hills   88.0  151.23\n",
      "40             Los Angeles - Green Meadows   36.0  167.40\n",
      "41              Los Angeles - Hancock Park   60.0  352.13\n",
      "42               Los Angeles - Harbor City   33.0  113.52\n",
      "43            Los Angeles - Harbor Gateway   49.0  112.39\n",
      "44              Los Angeles - Harbor Pines    0.0    0.00\n",
      "45           Los Angeles - Harvard Heights   37.0  205.16\n",
      "46              Los Angeles - Harvard Park   69.0  181.89\n",
      "47             Los Angeles - Highland Park   59.0  121.92\n",
      "48     Los Angeles - Historic Filipinotown   38.0  273.97\n",
      "49                 Los Angeles - Hollywood  166.0  243.21\n",
      "50           Los Angeles - Hollywood Hills   55.0  186.86\n",
      "51                 Los Angeles - Hyde Park   39.0  136.65\n",
      "52            Los Angeles - Jefferson Park    6.0   74.32\n",
      "53                 Los Angeles - Koreatown  104.0  201.19\n",
      "54          Los Angeles - Lafayette Square    9.0  197.41\n",
      "55               Los Angeles - Lake Balboa   54.0  127.94\n",
      "56          Los Angeles - Lakeview Terrace   40.0  304.58\n",
      "57              Los Angeles - Leimert Park   26.0  170.66\n",
      "58           Los Angeles - Lincoln Heights   44.0  134.98\n",
      "59            Los Angeles - Little Armenia   74.0  922.12\n",
      "60         Los Angeles - Little Bangladesh   58.0  204.64\n",
      "61                  Los Angeles - Longwood    9.0  209.11\n",
      "62                 Los Angeles - Los Feliz   30.0  138.84\n",
      "63         Los Angeles - Manchester Square    9.0  105.44\n",
      "64                 Los Angeles - Mar Vista   46.0  108.31\n",
      "65          Los Angeles - Marina Peninsula    9.0  206.42\n",
      "66                   Los Angeles - Melrose  281.0  361.67\n",
      "67                  Los Angeles - Mid-city   34.0  226.21\n",
      "68              Los Angeles - Miracle Mile   32.0  177.93\n",
      "69             Los Angeles - Mission Hills   49.0  203.12\n",
      "70            Los Angeles - Mt. Washington   31.0  128.39\n",
      "71               Los Angeles - North Hills  101.0  164.03\n",
      "72           Los Angeles - North Hollywood  226.0  149.25\n",
      "73                Los Angeles - Northridge  109.0  156.17\n",
      "74         Los Angeles - Pacific Palisades   33.0  155.00\n",
      "75                   Los Angeles - Pacoima  151.0  196.16\n",
      "76                     Los Angeles - Palms   85.0  193.72\n",
      "77             Los Angeles - Panorama City  166.0  220.60\n",
      "78              Los Angeles - Park La Brea   11.0   81.00\n",
      "79                Los Angeles - Pico-Union  133.0  317.86\n",
      "80               Los Angeles - Playa Vista   16.0  146.16\n",
      "81              Los Angeles - Porter Ranch   46.0  129.26\n",
      "82               Los Angeles - Rancho Park   10.0  152.44\n",
      "83                    Los Angeles - Reseda  143.0  186.64\n",
      "84              Los Angeles - Reseda Ranch   13.0  280.41\n",
      "85           Los Angeles - Reynier Village    6.0  141.91\n",
      "86                 Los Angeles - San Pedro  104.0  133.27\n",
      "87              Los Angeles - Shadow Hills   11.0  247.64\n",
      "88              Los Angeles - Sherman Oaks  102.0  116.90\n",
      "89                Los Angeles - Silverlake   97.0  220.04\n",
      "90             Los Angeles - South Carthay   22.0  207.65\n",
      "91                Los Angeles - South Park   80.0  210.74\n",
      "92           Los Angeles - St Elmo Village    6.0  130.89\n",
      "93               Los Angeles - Studio City   27.0  120.32\n",
      "94                Los Angeles - Sun Valley   77.0  146.71\n",
      "95                   Los Angeles - Sunland   52.0  254.80\n",
      "96           Los Angeles - Sycamore Square    0.0    0.00\n",
      "97                    Los Angeles - Sylmar  220.0  267.00\n",
      "98                   Los Angeles - Tarzana   65.0  210.52\n",
      "99            Los Angeles - Temple-Beaudry  112.0  283.67\n",
      "100                Los Angeles - Thai Town   12.0  122.34\n",
      "101              Los Angeles - Toluca Lake    9.0  103.40\n",
      "102                  Los Angeles - Tujunga   42.0  151.02\n",
      "103          Los Angeles - University Park   45.0  163.90\n",
      "104              Los Angeles - Valley Glen   61.0  203.22\n",
      "105           Los Angeles - Valley Village   66.0  266.99\n",
      "106                 Los Angeles - Van Nuys  191.0  204.95\n",
      "107                   Los Angeles - Venice   41.0  121.00\n",
      "108           Los Angeles - Vermont Knolls   36.0  209.30\n",
      "109           Los Angeles - Vermont Square   29.0  378.74\n",
      "110            Los Angeles - Vermont Vista   70.0  169.96\n",
      "111           Los Angeles - Vernon Central  112.0  215.39\n",
      "112            Los Angeles - Victoria Park   28.0  333.37\n",
      "113             Los Angeles - View Heights    7.0  189.50\n",
      "114                    Los Angeles - Watts   62.0  145.29\n",
      "115        Los Angeles - Wellington Square    6.0  122.08\n",
      "116               Los Angeles - West Adams   78.0  282.30\n",
      "117               Los Angeles - West Hills   38.0   93.72\n",
      "118         Los Angeles - West Los Angeles   49.0  130.19\n",
      "119              Los Angeles - West Vernon  133.0  247.93\n",
      "120              Los Angeles - Westchester   54.0  104.65\n",
      "121                 Los Angeles - Westlake  164.0  276.30\n",
      "122                 Los Angeles - Westwood   42.0   77.62\n",
      "123       Los Angeles - Wholesale District   58.0  160.54\n",
      "124               Los Angeles - Wilmington   61.0  107.99\n",
      "125          Los Angeles - Wilshire Center   79.0  157.46\n",
      "126                 Los Angeles - Winnetka   95.0  183.45\n",
      "127           Los Angeles - Woodland Hills   96.0  141.06\n"
     ]
    }
   ],
   "source": [
    "import pandas as pd\n",
    "\n",
    "def is_number(s):\n",
    "    try:\n",
    "        float(s)\n",
    "        return True\n",
    "    except ValueError:\n",
    "        return False\n",
    "\n",
    "res = pd.read_json('lacovidinfo.json')\n",
    "lcc = res.lacitiescovid\n",
    "alist = []\n",
    "llist = []\n",
    "for x in lcc:\n",
    "    if x['cases'] == '' or  x['cases'] == '--': \n",
    "        continue\n",
    "    if x['rate'] == '--' or x['rate'] == '':\n",
    "        continue\n",
    "    if not is_number(x['cases']):\n",
    "        continue\n",
    "    if not is_number(x['rate']):\n",
    "        continue\n",
    "    anent = { 'city': x['city'], 'cases': float(x['cases']), 'rate': float(x['rate'])}\n",
    "    alist.append(anent)\n",
    "    if not x['city'].startswith('Los Angeles - '):\n",
    "        continue\n",
    "    llist.append(anent)\n",
    "adf = pd.DataFrame(alist)\n",
    "ldf = pd.DataFrame(llist)\n",
    "with pd.option_context('display.max_rows', None, 'display.max_columns', None): \n",
    "    print(ldf)\n"
   ]
  },
  {
   "cell_type": "code",
   "execution_count": 138,
   "metadata": {},
   "outputs": [
    {
     "data": {
      "text/plain": [
       "<matplotlib.axes._subplots.AxesSubplot at 0x250722083d0>"
      ]
     },
     "execution_count": 138,
     "metadata": {},
     "output_type": "execute_result"
    },
    {
     "data": {
      "image/png": "[encoded data removed]",
      "text/plain": [
       "<Figure size 1080x360 with 1 Axes>"
      ]
     },
     "metadata": {
      "needs_background": "light"
     },
     "output_type": "display_data"
    }
   ],
   "source": [
    "ldf[:30].plot(kind='bar', x='city', y='cases', figsize=(15,5))"
   ]
  },
  {
   "cell_type": "code",
   "execution_count": 140,
   "metadata": {},
   "outputs": [
    {
     "data": {
      "text/html": [
       "<div>\n",
       "<style scoped>\n",
       "    .dataframe tbody tr th:only-of-type {\n",
       "        vertical-align: middle;\n",
       "    }\n",
       "\n",
       "    .dataframe tbody tr th {\n",
       "        vertical-align: top;\n",
       "    }\n",
       "\n",
       "    .dataframe thead th {\n",
       "        text-align: right;\n",
       "    }\n",
       "</style>\n",
       "<table border=\"1\" class=\"dataframe\">\n",
       "  <thead>\n",
       "    <tr style=\"text-align: right;\">\n",
       "      <th></th>\n",
       "      <th>city</th>\n",
       "      <th>cases</th>\n",
       "      <th>rate</th>\n",
       "    </tr>\n",
       "  </thead>\n",
       "  <tbody>\n",
       "    <tr>\n",
       "      <th>66</th>\n",
       "      <td>Los Angeles - Melrose</td>\n",
       "      <td>281.0</td>\n",
       "      <td>361.67</td>\n",
       "    </tr>\n",
       "    <tr>\n",
       "      <th>72</th>\n",
       "      <td>Los Angeles - North Hollywood</td>\n",
       "      <td>226.0</td>\n",
       "      <td>149.25</td>\n",
       "    </tr>\n",
       "    <tr>\n",
       "      <th>97</th>\n",
       "      <td>Los Angeles - Sylmar</td>\n",
       "      <td>220.0</td>\n",
       "      <td>267.00</td>\n",
       "    </tr>\n",
       "    <tr>\n",
       "      <th>106</th>\n",
       "      <td>Los Angeles - Van Nuys</td>\n",
       "      <td>191.0</td>\n",
       "      <td>204.95</td>\n",
       "    </tr>\n",
       "    <tr>\n",
       "      <th>14</th>\n",
       "      <td>Los Angeles - Canoga Park</td>\n",
       "      <td>167.0</td>\n",
       "      <td>255.79</td>\n",
       "    </tr>\n",
       "    <tr>\n",
       "      <th>...</th>\n",
       "      <td>...</td>\n",
       "      <td>...</td>\n",
       "      <td>...</td>\n",
       "    </tr>\n",
       "    <tr>\n",
       "      <th>3</th>\n",
       "      <td>Los Angeles - Angelino Heights</td>\n",
       "      <td>6.0</td>\n",
       "      <td>239.81</td>\n",
       "    </tr>\n",
       "    <tr>\n",
       "      <th>12</th>\n",
       "      <td>Los Angeles - Brookside</td>\n",
       "      <td>0.0</td>\n",
       "      <td>0.00</td>\n",
       "    </tr>\n",
       "    <tr>\n",
       "      <th>44</th>\n",
       "      <td>Los Angeles - Harbor Pines</td>\n",
       "      <td>0.0</td>\n",
       "      <td>0.00</td>\n",
       "    </tr>\n",
       "    <tr>\n",
       "      <th>2</th>\n",
       "      <td>Los Angeles - Angeles National Forest</td>\n",
       "      <td>0.0</td>\n",
       "      <td>0.00</td>\n",
       "    </tr>\n",
       "    <tr>\n",
       "      <th>96</th>\n",
       "      <td>Los Angeles - Sycamore Square</td>\n",
       "      <td>0.0</td>\n",
       "      <td>0.00</td>\n",
       "    </tr>\n",
       "  </tbody>\n",
       "</table>\n",
       "<p>128 rows × 3 columns</p>\n",
       "</div>"
      ],
      "text/plain": [
       "                                      city  cases    rate\n",
       "66                   Los Angeles - Melrose  281.0  361.67\n",
       "72           Los Angeles - North Hollywood  226.0  149.25\n",
       "97                    Los Angeles - Sylmar  220.0  267.00\n",
       "106                 Los Angeles - Van Nuys  191.0  204.95\n",
       "14               Los Angeles - Canoga Park  167.0  255.79\n",
       "..                                     ...    ...     ...\n",
       "3           Los Angeles - Angelino Heights    6.0  239.81\n",
       "12                 Los Angeles - Brookside    0.0    0.00\n",
       "44              Los Angeles - Harbor Pines    0.0    0.00\n",
       "2    Los Angeles - Angeles National Forest    0.0    0.00\n",
       "96           Los Angeles - Sycamore Square    0.0    0.00\n",
       "\n",
       "[128 rows x 3 columns]"
      ]
     },
     "execution_count": 140,
     "metadata": {},
     "output_type": "execute_result"
    }
   ],
   "source": [
    "ldf.sort_values(by='cases', ascending=False)"
   ]
  }
 ],
 "metadata": {
  "kernelspec": {
   "display_name": "Python 3",
   "language": "python",
   "name": "python3"
  },
  "language_info": {
   "codemirror_mode": {
    "name": "ipython",
    "version": 3
   },
   "file_extension": ".py",
   "mimetype": "text/x-python",
   "name": "python",
   "nbconvert_exporter": "python",
   "pygments_lexer": "ipython3",
   "version": "3.8.2"
  }
 },
 "nbformat": 4,
 "nbformat_minor": 4
}
