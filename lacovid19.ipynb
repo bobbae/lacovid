{
 "cells": [
  {
   "cell_type": "code",
   "execution_count": 1,
   "metadata": {},
   "outputs": [
    {
     "data": {
      "text/plain": [
       "'3.7.6'"
      ]
     },
     "execution_count": 1,
     "metadata": {},
     "output_type": "execute_result"
    }
   ],
   "source": [
    "# Settings for notebook\n",
    "from IPython.core.interactiveshell import InteractiveShell\n",
    "InteractiveShell.ast_node_interactivity = \"all\"\n",
    "# Show Python version\n",
    "import platform\n",
    "platform.python_version()"
   ]
  },
  {
   "cell_type": "code",
   "execution_count": 2,
   "metadata": {},
   "outputs": [],
   "source": [
    "try:\n",
    "    import scrapy\n",
    "except:\n",
    "    !pip3 install scrapy\n",
    "    import scrapy\n",
    "from scrapy.crawler import CrawlerProcess"
   ]
  },
  {
   "cell_type": "code",
   "execution_count": 3,
   "metadata": {},
   "outputs": [],
   "source": [
    "import json\n",
    "import logging\n",
    "\n",
    "class QuotesSpider(scrapy.Spider):\n",
    "    name = \"quotes\"\n",
    "    start_urls = [\n",
    "        'http://www.ph.lacounty.gov/media/Coronavirus/locations.htm'\n",
    "    ]\n",
    "    custom_settings = {\n",
    "        'LOG_LEVEL': logging.WARNING,\n",
    "        'FEED_FORMAT':'json',                                 # Used for pipeline 2\n",
    "        'FEED_URI': 'quoteresult.json'                        # Used for pipeline 2\n",
    "    }\n",
    "    \n",
    "    def parse(self, response):\n",
    "        cities = response.xpath('//table/tr/td[1]').extract()\n",
    "        cases = response.xpath('//table/tr/td[2]').extract()\n",
    "        rates = response.xpath('//table/tr/td[3]').extract()\n",
    "        cities = list(map(lambda x: x.replace('<td>','').replace('</td>',''), cities))\n",
    "        cases = list(map(lambda x: x.replace('<td>','').replace('</td>',''), cases))\n",
    "        rates = list(map(lambda x: x.replace('<td>','').replace('</td>',''), rates))\n",
    "        alist=[]\n",
    "        lacitiesdata = { \"lacitiescovid\": alist }\n",
    "        i = 0\n",
    "        for city in cities:\n",
    "            if i<28:\n",
    "                i=i+1\n",
    "                continue\n",
    "            arec = { 'city': city, 'cases': cases[i] , 'rate':rates[i]}\n",
    "            i=i+1\n",
    "            alist.append(arec)\n",
    "        with open('lacovidinfo.json', 'w') as jsonfile:\n",
    "            print(json.dump(lacitiesdata, jsonfile, indent=4))\n",
    "        alist"
   ]
  },
  {
   "cell_type": "code",
   "execution_count": 4,
   "metadata": {},
   "outputs": [
    {
     "name": "stderr",
     "output_type": "stream",
     "text": [
      "2020-05-27 15:19:34 [scrapy.utils.log] INFO: Scrapy 2.1.0 started (bot: scrapybot)\n",
      "2020-05-27 15:19:34 [scrapy.utils.log] INFO: Versions: lxml 4.5.1.0, libxml2 2.9.10, cssselect 1.1.0, parsel 1.6.0, w3lib 1.22.0, Twisted 20.3.0, Python 3.7.6 (default, Dec 30 2019, 19:38:26) - [Clang 11.0.0 (clang-1100.0.33.16)], pyOpenSSL 19.1.0 (OpenSSL 1.1.1g  21 Apr 2020), cryptography 2.9.2, Platform Darwin-19.4.0-x86_64-i386-64bit\n",
      "2020-05-27 15:19:34 [scrapy.utils.log] DEBUG: Using reactor: twisted.internet.selectreactor.SelectReactor\n",
      "2020-05-27 15:19:34 [scrapy.crawler] INFO: Overridden settings:\n",
      "{'LOG_LEVEL': 30,\n",
      " 'USER_AGENT': 'Mozilla/4.0 (compatible; MSIE 7.0; Windows NT 5.1)'}\n",
      "2020-05-27 15:19:34 [py.warnings] WARNING: /Users/bbae/venv-python-3.7.6/lib/python3.7/site-packages/scrapy/extensions/feedexport.py:210: ScrapyDeprecationWarning: The `FEED_URI` and `FEED_FORMAT` settings have been deprecated in favor of the `FEEDS` setting. Please see the `FEEDS` setting docs for more details\n",
      "  exporter = cls(crawler)\n",
      "\n"
     ]
    },
    {
     "data": {
      "text/plain": [
       "<Deferred at 0x10c498150>"
      ]
     },
     "execution_count": 4,
     "metadata": {},
     "output_type": "execute_result"
    },
    {
     "name": "stdout",
     "output_type": "stream",
     "text": [
      "None\n"
     ]
    }
   ],
   "source": [
    "process = CrawlerProcess({\n",
    "    'USER_AGENT': 'Mozilla/4.0 (compatible; MSIE 7.0; Windows NT 5.1)'\n",
    "})\n",
    "\n",
    "process.crawl(QuotesSpider)\n",
    "process.start()\n"
   ]
  },
  {
   "cell_type": "code",
   "execution_count": 5,
   "metadata": {},
   "outputs": [
    {
     "name": "stdout",
     "output_type": "stream",
     "text": [
      "                                      city  cases     rate\n",
      "0            Los Angeles - Adams-Normandie   50.0   609.61\n",
      "1                     Los Angeles - Alsace   47.0   377.66\n",
      "2    Los Angeles - Angeles National Forest    0.0     0.00\n",
      "3           Los Angeles - Angelino Heights   16.0   639.49\n",
      "4                     Los Angeles - Arleta  263.0   765.20\n",
      "5            Los Angeles - Atwater Village   51.0   347.74\n",
      "6              Los Angeles - Baldwin Hills  159.0   510.84\n",
      "7                    Los Angeles - Bel Air   35.0   415.23\n",
      "8              Los Angeles - Beverly Crest   37.0   295.41\n",
      "9                Los Angeles - Beverlywood   37.0   280.88\n",
      "10            Los Angeles - Boyle Heights*  638.0   734.31\n",
      "11                 Los Angeles - Brentwood   75.0   242.29\n",
      "12                 Los Angeles - Brookside    0.0     0.00\n",
      "13          Los Angeles - Cadillac-Corning   29.0   407.25\n",
      "14               Los Angeles - Canoga Park  483.0   739.79\n",
      "15                   Los Angeles - Carthay   76.0   529.14\n",
      "16                   Los Angeles - Central  372.0   954.04\n",
      "17              Los Angeles - Century City   32.0   250.16\n",
      "18        Los Angeles - Century Palms/Cove  231.0   684.12\n",
      "19                Los Angeles - Chatsworth  181.0   488.38\n",
      "20             Los Angeles - Cheviot Hills   20.0   218.08\n",
      "21                 Los Angeles - Chinatown   21.0   261.81\n",
      "22        Los Angeles - Cloverdale/Cochran   60.0   412.29\n",
      "23         Los Angeles - Country Club Park   93.0   613.74\n",
      "24         Los Angeles - Crenshaw District   67.0   484.49\n",
      "25                 Los Angeles - Crestview   86.0   756.51\n",
      "26                   Los Angeles - Del Rey   72.0   240.51\n",
      "27                 Los Angeles - Downtown*  135.0   490.78\n",
      "28                Los Angeles - Eagle Rock  170.0   429.41\n",
      "29            Los Angeles - East Hollywood  218.0   744.36\n",
      "30                 Los Angeles - Echo Park   43.0   301.63\n",
      "31                 Los Angeles - El Sereno  156.0   373.13\n",
      "32              Los Angeles - Elysian Park   16.0   280.11\n",
      "33            Los Angeles - Elysian Valley   54.0   530.92\n",
      "34                    Los Angeles - Encino  120.0   265.65\n",
      "35                Los Angeles - Exposition    9.0   270.60\n",
      "36           Los Angeles - Exposition Park  239.0   532.09\n",
      "37         Los Angeles - Faircrest Heights    4.0   111.11\n",
      "38      Los Angeles - Figueroa Park Square   36.0   412.80\n",
      "39        Los Angeles - Florence-Firestone  355.0   748.23\n",
      "40             Los Angeles - Glassell Park  179.0   566.38\n",
      "41            Los Angeles - Gramercy Place   64.0   594.57\n",
      "42             Los Angeles - Granada Hills  299.0   513.83\n",
      "43             Los Angeles - Green Meadows  152.0   706.81\n",
      "44              Los Angeles - Hancock Park   78.0   457.77\n",
      "45               Los Angeles - Harbor City   89.0   306.16\n",
      "46            Los Angeles - Harbor Gateway  128.0   293.58\n",
      "47              Los Angeles - Harbor Pines    9.0   373.60\n",
      "48           Los Angeles - Harvard Heights  129.0   715.28\n",
      "49              Los Angeles - Harvard Park  278.0   732.83\n",
      "50             Los Angeles - Highland Park  188.0   388.50\n",
      "51     Los Angeles - Historic Filipinotown  130.0   937.27\n",
      "52                 Los Angeles - Hollywood  264.0   386.79\n",
      "53           Los Angeles - Hollywood Hills   81.0   275.19\n",
      "54                 Los Angeles - Hyde Park  137.0   480.01\n",
      "55            Los Angeles - Jefferson Park   38.0   470.70\n",
      "56                 Los Angeles - Koreatown  261.0   504.90\n",
      "57          Los Angeles - Lafayette Square   18.0   394.82\n",
      "58               Los Angeles - Lake Balboa  190.0   450.17\n",
      "59          Los Angeles - Lakeview Terrace  106.0   807.13\n",
      "60              Los Angeles - Leimert Park   56.0   367.57\n",
      "61           Los Angeles - Lincoln Heights  225.0   690.25\n",
      "62            Los Angeles - Little Armenia  190.0  2367.60\n",
      "63         Los Angeles - Little Bangladesh  124.0   437.50\n",
      "64              Los Angeles - Little Tokyo   17.0   542.61\n",
      "65                  Los Angeles - Longwood   21.0   487.92\n",
      "66                 Los Angeles - Los Feliz   49.0   226.77\n",
      "67         Los Angeles - Manchester Square   19.0   222.59\n",
      "68         Los Angeles - Mandeville Canyon    1.0    32.01\n",
      "69                 Los Angeles - Mar Vista   80.0   188.36\n",
      "70          Los Angeles - Marina Peninsula   12.0   275.23\n",
      "71                   Los Angeles - Melrose  538.0   692.44\n",
      "72                  Los Angeles - Mid-city   55.0   365.93\n",
      "73              Los Angeles - Miracle Mile   40.0   222.41\n",
      "74             Los Angeles - Mission Hills  139.0   576.19\n",
      "75            Los Angeles - Mt. Washington  100.0   414.16\n",
      "76               Los Angeles - North Hills  421.0   683.72\n",
      "77           Los Angeles - North Hollywood  660.0   435.87\n",
      "78                Los Angeles - Northridge  314.0   449.88\n",
      "79         Los Angeles - Pacific Palisades   52.0   244.23\n",
      "80                   Los Angeles - Pacoima  664.0   862.57\n",
      "81       Los Angeles - Palisades Highlands    3.0    78.00\n",
      "82                     Los Angeles - Palms  185.0   421.63\n",
      "83             Los Angeles - Panorama City  693.0   920.93\n",
      "84              Los Angeles - Park La Brea   19.0   139.91\n",
      "85                Los Angeles - Pico-Union  514.0  1228.43\n",
      "86             Los Angeles - Playa Del Rey    3.0    93.87\n",
      "87               Los Angeles - Playa Vista   23.0   210.10\n",
      "88              Los Angeles - Porter Ranch   89.0   250.08\n",
      "89               Los Angeles - Rancho Park   17.0   259.15\n",
      "90             Los Angeles - Regent Square    4.0   143.88\n",
      "91                    Los Angeles - Reseda  528.0   689.14\n",
      "92              Los Angeles - Reseda Ranch   30.0   647.11\n",
      "93           Los Angeles - Reynier Village   10.0   236.52\n",
      "94                Los Angeles - San Pedro*  883.0  1131.50\n",
      "95              Los Angeles - Shadow Hills   10.0   225.12\n",
      "96              Los Angeles - Sherman Oaks  222.0   254.43\n",
      "97                Los Angeles - Silverlake  175.0   396.98\n",
      "98             Los Angeles - South Carthay   35.0   330.34\n",
      "99                Los Angeles - South Park  348.0   916.73\n",
      "100          Los Angeles - St Elmo Village   44.0   959.86\n",
      "101              Los Angeles - Studio City   77.0   343.14\n",
      "102               Los Angeles - Sun Valley  286.0   544.94\n",
      "103                  Los Angeles - Sunland  144.0   705.61\n",
      "104          Los Angeles - Sycamore Square    1.0   154.56\n",
      "105                  Los Angeles - Sylmar*  749.0   909.00\n",
      "106                  Los Angeles - Tarzana  157.0   508.49\n",
      "107           Los Angeles - Temple-Beaudry  308.0   780.10\n",
      "108                Los Angeles - Thai Town   30.0   305.84\n",
      "109              Los Angeles - Toluca Lake   19.0   218.29\n",
      "110           Los Angeles - Toluca Terrace    6.0   459.42\n",
      "111             Los Angeles - Toluca Woods    3.0   161.46\n",
      "112                  Los Angeles - Tujunga  116.0   417.12\n",
      "113         Los Angeles - University Hills   11.0   320.79\n",
      "114          Los Angeles - University Park  172.0   626.46\n",
      "115              Los Angeles - Valley Glen  124.0   413.11\n",
      "116           Los Angeles - Valley Village  203.0   821.20\n",
      "117                 Los Angeles - Van Nuys  664.0   712.49\n",
      "118                   Los Angeles - Venice   65.0   191.83\n",
      "119           Los Angeles - Vermont Knolls  133.0   773.26\n",
      "120           Los Angeles - Vermont Square   83.0  1083.98\n",
      "121            Los Angeles - Vermont Vista  298.0   723.55\n",
      "122           Los Angeles - Vernon Central  563.0  1082.73\n",
      "123            Los Angeles - Victoria Park   56.0   666.75\n",
      "124             Los Angeles - View Heights    8.0   216.57\n",
      "125                    Los Angeles - Watts  268.0   628.02\n",
      "126        Los Angeles - Wellington Square   21.0   427.26\n",
      "127               Los Angeles - West Adams  202.0   731.09\n",
      "128               Los Angeles - West Hills  130.0   320.63\n",
      "129         Los Angeles - West Los Angeles   74.0   196.62\n",
      "130              Los Angeles - West Vernon  435.0   810.90\n",
      "131              Los Angeles - Westchester   92.0   178.28\n",
      "132                 Los Angeles - Westlake  693.0  1167.55\n",
      "133                 Los Angeles - Westwood   66.0   121.98\n",
      "134      Los Angeles - Wholesale District*  653.0  1807.41\n",
      "135               Los Angeles - Wilmington  225.0   398.32\n",
      "136          Los Angeles - Wilshire Center  228.0   454.45\n",
      "137                 Los Angeles - Winnetka  282.0   544.55\n",
      "138           Los Angeles - Woodland Hills  155.0   227.76\n"
     ]
    }
   ],
   "source": [
    "import pandas as pd\n",
    "\n",
    "def is_number(s):\n",
    "    try:\n",
    "        float(s)\n",
    "        return True\n",
    "    except ValueError:\n",
    "        return False\n",
    "\n",
    "res = pd.read_json('lacovidinfo.json')\n",
    "lcc = res.lacitiescovid\n",
    "alist = []\n",
    "llist = []\n",
    "for x in lcc:\n",
    "    if x['cases'] == '' or  x['cases'] == '--': \n",
    "        continue\n",
    "    if x['rate'] == '--' or x['rate'] == '':\n",
    "        continue\n",
    "    if not is_number(x['cases']):\n",
    "        continue\n",
    "    if not is_number(x['rate']):\n",
    "        continue\n",
    "    anent = { 'city': x['city'], 'cases': float(x['cases']), 'rate': float(x['rate'])}\n",
    "    alist.append(anent)\n",
    "    if not x['city'].startswith('Los Angeles - '):\n",
    "        continue\n",
    "    llist.append(anent)\n",
    "adf = pd.DataFrame(alist)\n",
    "ldf = pd.DataFrame(llist)\n",
    "with pd.option_context('display.max_rows', None, 'display.max_columns', None): \n",
    "    print(ldf)\n"
   ]
  },
  {
   "cell_type": "code",
   "execution_count": 6,
   "metadata": {},
   "outputs": [
    {
     "data": {
      "text/plain": [
       "<matplotlib.axes._subplots.AxesSubplot at 0x121cdfdd0>"
      ]
     },
     "execution_count": 6,
     "metadata": {},
     "output_type": "execute_result"
    },
    {
     "data": {
      "image/png": "[encoded data removed]",
      "text/plain": [
       "<Figure size 1080x360 with 1 Axes>"
      ]
     },
     "metadata": {
      "needs_background": "light"
     },
     "output_type": "display_data"
    }
   ],
   "source": [
    "ldf[:30].plot(kind='bar', x='city', y='cases', figsize=(15,5))"
   ]
  },
  {
   "cell_type": "code",
   "execution_count": 7,
   "metadata": {},
   "outputs": [
    {
     "data": {
      "text/plain": [
       "<matplotlib.axes._subplots.AxesSubplot at 0x1244b9050>"
      ]
     },
     "execution_count": 7,
     "metadata": {},
     "output_type": "execute_result"
    },
    {
     "data": {
      "image/png": "[encoded data removed]",
      "text/plain": [
       "<Figure size 1080x360 with 1 Axes>"
      ]
     },
     "metadata": {
      "needs_background": "light"
     },
     "output_type": "display_data"
    }
   ],
   "source": [
    "ldf.sort_values(by='cases', ascending=False)[:30].plot(kind='bar', x='city', y='cases', figsize=(15,5))"
   ]
  },
  {
   "cell_type": "code",
   "execution_count": 8,
   "metadata": {},
   "outputs": [
    {
     "name": "stdout",
     "output_type": "stream",
     "text": [
      "                                      city  cases     rate\n",
      "62            Los Angeles - Little Armenia  190.0  2367.60\n",
      "134      Los Angeles - Wholesale District*  653.0  1807.41\n",
      "85                Los Angeles - Pico-Union  514.0  1228.43\n",
      "132                 Los Angeles - Westlake  693.0  1167.55\n",
      "94                Los Angeles - San Pedro*  883.0  1131.50\n",
      "120           Los Angeles - Vermont Square   83.0  1083.98\n",
      "122           Los Angeles - Vernon Central  563.0  1082.73\n",
      "100          Los Angeles - St Elmo Village   44.0   959.86\n",
      "16                   Los Angeles - Central  372.0   954.04\n",
      "51     Los Angeles - Historic Filipinotown  130.0   937.27\n",
      "83             Los Angeles - Panorama City  693.0   920.93\n",
      "99                Los Angeles - South Park  348.0   916.73\n",
      "105                  Los Angeles - Sylmar*  749.0   909.00\n",
      "80                   Los Angeles - Pacoima  664.0   862.57\n",
      "116           Los Angeles - Valley Village  203.0   821.20\n",
      "130              Los Angeles - West Vernon  435.0   810.90\n",
      "59          Los Angeles - Lakeview Terrace  106.0   807.13\n",
      "107           Los Angeles - Temple-Beaudry  308.0   780.10\n",
      "119           Los Angeles - Vermont Knolls  133.0   773.26\n",
      "4                     Los Angeles - Arleta  263.0   765.20\n",
      "25                 Los Angeles - Crestview   86.0   756.51\n",
      "39        Los Angeles - Florence-Firestone  355.0   748.23\n",
      "29            Los Angeles - East Hollywood  218.0   744.36\n",
      "14               Los Angeles - Canoga Park  483.0   739.79\n",
      "10            Los Angeles - Boyle Heights*  638.0   734.31\n",
      "49              Los Angeles - Harvard Park  278.0   732.83\n",
      "127               Los Angeles - West Adams  202.0   731.09\n",
      "121            Los Angeles - Vermont Vista  298.0   723.55\n",
      "48           Los Angeles - Harvard Heights  129.0   715.28\n",
      "117                 Los Angeles - Van Nuys  664.0   712.49\n",
      "43             Los Angeles - Green Meadows  152.0   706.81\n",
      "103                  Los Angeles - Sunland  144.0   705.61\n",
      "71                   Los Angeles - Melrose  538.0   692.44\n",
      "61           Los Angeles - Lincoln Heights  225.0   690.25\n",
      "91                    Los Angeles - Reseda  528.0   689.14\n",
      "18        Los Angeles - Century Palms/Cove  231.0   684.12\n",
      "76               Los Angeles - North Hills  421.0   683.72\n",
      "123            Los Angeles - Victoria Park   56.0   666.75\n",
      "92              Los Angeles - Reseda Ranch   30.0   647.11\n",
      "3           Los Angeles - Angelino Heights   16.0   639.49\n",
      "125                    Los Angeles - Watts  268.0   628.02\n",
      "114          Los Angeles - University Park  172.0   626.46\n",
      "23         Los Angeles - Country Club Park   93.0   613.74\n",
      "0            Los Angeles - Adams-Normandie   50.0   609.61\n",
      "41            Los Angeles - Gramercy Place   64.0   594.57\n",
      "74             Los Angeles - Mission Hills  139.0   576.19\n",
      "40             Los Angeles - Glassell Park  179.0   566.38\n",
      "102               Los Angeles - Sun Valley  286.0   544.94\n",
      "137                 Los Angeles - Winnetka  282.0   544.55\n",
      "64              Los Angeles - Little Tokyo   17.0   542.61\n",
      "36           Los Angeles - Exposition Park  239.0   532.09\n",
      "33            Los Angeles - Elysian Valley   54.0   530.92\n",
      "15                   Los Angeles - Carthay   76.0   529.14\n",
      "42             Los Angeles - Granada Hills  299.0   513.83\n",
      "6              Los Angeles - Baldwin Hills  159.0   510.84\n",
      "106                  Los Angeles - Tarzana  157.0   508.49\n",
      "56                 Los Angeles - Koreatown  261.0   504.90\n",
      "27                 Los Angeles - Downtown*  135.0   490.78\n",
      "19                Los Angeles - Chatsworth  181.0   488.38\n",
      "65                  Los Angeles - Longwood   21.0   487.92\n",
      "24         Los Angeles - Crenshaw District   67.0   484.49\n",
      "54                 Los Angeles - Hyde Park  137.0   480.01\n",
      "55            Los Angeles - Jefferson Park   38.0   470.70\n",
      "110           Los Angeles - Toluca Terrace    6.0   459.42\n",
      "44              Los Angeles - Hancock Park   78.0   457.77\n",
      "136          Los Angeles - Wilshire Center  228.0   454.45\n",
      "58               Los Angeles - Lake Balboa  190.0   450.17\n",
      "78                Los Angeles - Northridge  314.0   449.88\n",
      "63         Los Angeles - Little Bangladesh  124.0   437.50\n",
      "77           Los Angeles - North Hollywood  660.0   435.87\n",
      "28                Los Angeles - Eagle Rock  170.0   429.41\n",
      "126        Los Angeles - Wellington Square   21.0   427.26\n",
      "82                     Los Angeles - Palms  185.0   421.63\n",
      "112                  Los Angeles - Tujunga  116.0   417.12\n",
      "7                    Los Angeles - Bel Air   35.0   415.23\n",
      "75            Los Angeles - Mt. Washington  100.0   414.16\n",
      "115              Los Angeles - Valley Glen  124.0   413.11\n",
      "38      Los Angeles - Figueroa Park Square   36.0   412.80\n",
      "22        Los Angeles - Cloverdale/Cochran   60.0   412.29\n",
      "13          Los Angeles - Cadillac-Corning   29.0   407.25\n",
      "135               Los Angeles - Wilmington  225.0   398.32\n",
      "97                Los Angeles - Silverlake  175.0   396.98\n",
      "57          Los Angeles - Lafayette Square   18.0   394.82\n",
      "50             Los Angeles - Highland Park  188.0   388.50\n",
      "52                 Los Angeles - Hollywood  264.0   386.79\n",
      "1                     Los Angeles - Alsace   47.0   377.66\n",
      "47              Los Angeles - Harbor Pines    9.0   373.60\n",
      "31                 Los Angeles - El Sereno  156.0   373.13\n",
      "60              Los Angeles - Leimert Park   56.0   367.57\n",
      "72                  Los Angeles - Mid-city   55.0   365.93\n",
      "5            Los Angeles - Atwater Village   51.0   347.74\n",
      "101              Los Angeles - Studio City   77.0   343.14\n",
      "98             Los Angeles - South Carthay   35.0   330.34\n",
      "113         Los Angeles - University Hills   11.0   320.79\n",
      "128               Los Angeles - West Hills  130.0   320.63\n",
      "45               Los Angeles - Harbor City   89.0   306.16\n",
      "108                Los Angeles - Thai Town   30.0   305.84\n",
      "30                 Los Angeles - Echo Park   43.0   301.63\n",
      "8              Los Angeles - Beverly Crest   37.0   295.41\n",
      "46            Los Angeles - Harbor Gateway  128.0   293.58\n",
      "9                Los Angeles - Beverlywood   37.0   280.88\n",
      "32              Los Angeles - Elysian Park   16.0   280.11\n",
      "70          Los Angeles - Marina Peninsula   12.0   275.23\n",
      "53           Los Angeles - Hollywood Hills   81.0   275.19\n",
      "35                Los Angeles - Exposition    9.0   270.60\n",
      "34                    Los Angeles - Encino  120.0   265.65\n",
      "21                 Los Angeles - Chinatown   21.0   261.81\n",
      "89               Los Angeles - Rancho Park   17.0   259.15\n",
      "96              Los Angeles - Sherman Oaks  222.0   254.43\n",
      "17              Los Angeles - Century City   32.0   250.16\n",
      "88              Los Angeles - Porter Ranch   89.0   250.08\n",
      "79         Los Angeles - Pacific Palisades   52.0   244.23\n",
      "11                 Los Angeles - Brentwood   75.0   242.29\n",
      "26                   Los Angeles - Del Rey   72.0   240.51\n",
      "93           Los Angeles - Reynier Village   10.0   236.52\n",
      "138           Los Angeles - Woodland Hills  155.0   227.76\n",
      "66                 Los Angeles - Los Feliz   49.0   226.77\n",
      "95              Los Angeles - Shadow Hills   10.0   225.12\n",
      "67         Los Angeles - Manchester Square   19.0   222.59\n",
      "73              Los Angeles - Miracle Mile   40.0   222.41\n",
      "109              Los Angeles - Toluca Lake   19.0   218.29\n",
      "20             Los Angeles - Cheviot Hills   20.0   218.08\n",
      "124             Los Angeles - View Heights    8.0   216.57\n",
      "87               Los Angeles - Playa Vista   23.0   210.10\n",
      "129         Los Angeles - West Los Angeles   74.0   196.62\n",
      "118                   Los Angeles - Venice   65.0   191.83\n",
      "69                 Los Angeles - Mar Vista   80.0   188.36\n",
      "131              Los Angeles - Westchester   92.0   178.28\n",
      "111             Los Angeles - Toluca Woods    3.0   161.46\n",
      "104          Los Angeles - Sycamore Square    1.0   154.56\n",
      "90             Los Angeles - Regent Square    4.0   143.88\n",
      "84              Los Angeles - Park La Brea   19.0   139.91\n",
      "133                 Los Angeles - Westwood   66.0   121.98\n",
      "37         Los Angeles - Faircrest Heights    4.0   111.11\n",
      "86             Los Angeles - Playa Del Rey    3.0    93.87\n",
      "81       Los Angeles - Palisades Highlands    3.0    78.00\n",
      "68         Los Angeles - Mandeville Canyon    1.0    32.01\n",
      "12                 Los Angeles - Brookside    0.0     0.00\n",
      "2    Los Angeles - Angeles National Forest    0.0     0.00\n"
     ]
    }
   ],
   "source": [
    "with pd.option_context('display.max_rows', None, 'display.max_columns', None): \n",
    "    print(ldf.sort_values(by='rate', ascending=False))\n"
   ]
  },
  {
   "cell_type": "code",
   "execution_count": 9,
   "metadata": {},
   "outputs": [
    {
     "data": {
      "text/plain": [
       "<matplotlib.axes._subplots.AxesSubplot at 0x121c5fc50>"
      ]
     },
     "execution_count": 9,
     "metadata": {},
     "output_type": "execute_result"
    },
    {
     "data": {
      "image/png": "[encoded data removed]",
      "text/plain": [
       "<Figure size 1080x360 with 1 Axes>"
      ]
     },
     "metadata": {
      "needs_background": "light"
     },
     "output_type": "display_data"
    }
   ],
   "source": [
    "ldf.sort_values(by='rate', ascending=False)[:30].plot(kind='bar', x='city', y='rate', figsize=(15,5))"
   ]
  },
  {
   "cell_type": "code",
   "execution_count": 10,
   "metadata": {},
   "outputs": [],
   "source": [
    "import os\n",
    "import psycopg2\n",
    "\n",
    "DATABASE_URL = os.environ['DATABASE_URL']\n",
    "\n",
    "conn = psycopg2.connect(DATABASE_URL, sslmode='require')"
   ]
  },
  {
   "cell_type": "code",
   "execution_count": 11,
   "metadata": {},
   "outputs": [
    {
     "data": {
      "text/plain": [
       "[('public', 'test', 'blrxwnroakzmlk', None, True, False, False, False),\n",
       " ('public', 'lacovid2', 'blrxwnroakzmlk', None, True, False, False, False)]"
      ]
     },
     "execution_count": 11,
     "metadata": {},
     "output_type": "execute_result"
    }
   ],
   "source": [
    "cur = conn.cursor()\n",
    "cur.execute(\"SELECT * FROM pg_catalog.pg_tables WHERE schemaname != 'pg_catalog' AND schemaname != 'information_schema';\")\n",
    "cur.fetchall()"
   ]
  },
  {
   "cell_type": "code",
   "execution_count": 12,
   "metadata": {},
   "outputs": [],
   "source": [
    "#cur.execute(\"CREATE TABLE test (id serial PRIMARY KEY, num integer, data varchar);\")"
   ]
  },
  {
   "cell_type": "code",
   "execution_count": 13,
   "metadata": {},
   "outputs": [],
   "source": [
    "#cur.execute(\"INSERT INTO test (num, data) VALUES (%s, %s)\",(100, \"abc'def\"))"
   ]
  },
  {
   "cell_type": "code",
   "execution_count": 14,
   "metadata": {},
   "outputs": [
    {
     "data": {
      "text/plain": [
       "(1, 100, \"abc'def\")"
      ]
     },
     "execution_count": 14,
     "metadata": {},
     "output_type": "execute_result"
    }
   ],
   "source": [
    "cur.execute(\"SELECT * FROM test;\")\n",
    "cur.fetchone()"
   ]
  },
  {
   "cell_type": "code",
   "execution_count": 15,
   "metadata": {},
   "outputs": [],
   "source": [
    "cur.execute(\"DROP TABLE lacovid2;\")\n",
    "cur.execute(\"CREATE TABLE lacovid2 (id serial, city varchar PRIMARY KEY, cases float, rate float);\")"
   ]
  },
  {
   "cell_type": "code",
   "execution_count": 16,
   "metadata": {},
   "outputs": [],
   "source": [
    "for d in ldf.to_dict('records'):\n",
    "   cur.execute(\"INSERT INTO lacovid2 (city, cases, rate) VALUES (%s, %s, %s)\",(d['city'],d['cases'], d['rate']))"
   ]
  },
  {
   "cell_type": "code",
   "execution_count": 17,
   "metadata": {},
   "outputs": [
    {
     "data": {
      "text/plain": [
       "[(13, 'Los Angeles - Brookside', 0.0, 0.0),\n",
       " (3, 'Los Angeles - Angeles National Forest', 0.0, 0.0),\n",
       " (69, 'Los Angeles - Mandeville Canyon', 1.0, 32.01),\n",
       " (82, 'Los Angeles - Palisades Highlands', 3.0, 78.0),\n",
       " (87, 'Los Angeles - Playa Del Rey', 3.0, 93.87),\n",
       " (38, 'Los Angeles - Faircrest Heights', 4.0, 111.11),\n",
       " (134, 'Los Angeles - Westwood', 66.0, 121.98),\n",
       " (85, 'Los Angeles - Park La Brea', 19.0, 139.91),\n",
       " (91, 'Los Angeles - Regent Square', 4.0, 143.88),\n",
       " (105, 'Los Angeles - Sycamore Square', 1.0, 154.56),\n",
       " (112, 'Los Angeles - Toluca Woods', 3.0, 161.46),\n",
       " (132, 'Los Angeles - Westchester', 92.0, 178.28),\n",
       " (70, 'Los Angeles - Mar Vista', 80.0, 188.36),\n",
       " (119, 'Los Angeles - Venice', 65.0, 191.83),\n",
       " (130, 'Los Angeles - West Los Angeles', 74.0, 196.62),\n",
       " (88, 'Los Angeles - Playa Vista', 23.0, 210.1),\n",
       " (125, 'Los Angeles - View Heights', 8.0, 216.57),\n",
       " (21, 'Los Angeles - Cheviot Hills', 20.0, 218.08),\n",
       " (110, 'Los Angeles - Toluca Lake', 19.0, 218.29),\n",
       " (74, 'Los Angeles - Miracle Mile', 40.0, 222.41),\n",
       " (68, 'Los Angeles - Manchester Square', 19.0, 222.59),\n",
       " (96, 'Los Angeles - Shadow Hills', 10.0, 225.12),\n",
       " (67, 'Los Angeles - Los Feliz', 49.0, 226.77),\n",
       " (139, 'Los Angeles - Woodland Hills', 155.0, 227.76),\n",
       " (94, 'Los Angeles - Reynier Village', 10.0, 236.52),\n",
       " (27, 'Los Angeles - Del Rey', 72.0, 240.51),\n",
       " (12, 'Los Angeles - Brentwood', 75.0, 242.29),\n",
       " (80, 'Los Angeles - Pacific Palisades', 52.0, 244.23),\n",
       " (89, 'Los Angeles - Porter Ranch', 89.0, 250.08),\n",
       " (18, 'Los Angeles - Century City', 32.0, 250.16),\n",
       " (97, 'Los Angeles - Sherman Oaks', 222.0, 254.43),\n",
       " (90, 'Los Angeles - Rancho Park', 17.0, 259.15),\n",
       " (22, 'Los Angeles - Chinatown', 21.0, 261.81),\n",
       " (35, 'Los Angeles - Encino', 120.0, 265.65),\n",
       " (36, 'Los Angeles - Exposition', 9.0, 270.6),\n",
       " (54, 'Los Angeles - Hollywood Hills', 81.0, 275.19),\n",
       " (71, 'Los Angeles - Marina Peninsula', 12.0, 275.23),\n",
       " (33, 'Los Angeles - Elysian Park', 16.0, 280.11),\n",
       " (10, 'Los Angeles - Beverlywood', 37.0, 280.88),\n",
       " (47, 'Los Angeles - Harbor Gateway', 128.0, 293.58),\n",
       " (9, 'Los Angeles - Beverly Crest', 37.0, 295.41),\n",
       " (31, 'Los Angeles - Echo Park', 43.0, 301.63),\n",
       " (109, 'Los Angeles - Thai Town', 30.0, 305.84),\n",
       " (46, 'Los Angeles - Harbor City', 89.0, 306.16),\n",
       " (129, 'Los Angeles - West Hills', 130.0, 320.63),\n",
       " (114, 'Los Angeles - University Hills', 11.0, 320.79),\n",
       " (99, 'Los Angeles - South Carthay', 35.0, 330.34),\n",
       " (102, 'Los Angeles - Studio City', 77.0, 343.14),\n",
       " (6, 'Los Angeles - Atwater Village', 51.0, 347.74),\n",
       " (73, 'Los Angeles - Mid-city', 55.0, 365.93),\n",
       " (61, 'Los Angeles - Leimert Park', 56.0, 367.57),\n",
       " (32, 'Los Angeles - El Sereno', 156.0, 373.13),\n",
       " (48, 'Los Angeles - Harbor Pines', 9.0, 373.6),\n",
       " (2, 'Los Angeles - Alsace', 47.0, 377.66),\n",
       " (53, 'Los Angeles - Hollywood', 264.0, 386.79),\n",
       " (51, 'Los Angeles - Highland Park', 188.0, 388.5),\n",
       " (58, 'Los Angeles - Lafayette Square', 18.0, 394.82),\n",
       " (98, 'Los Angeles - Silverlake', 175.0, 396.98),\n",
       " (136, 'Los Angeles - Wilmington', 225.0, 398.32),\n",
       " (14, 'Los Angeles - Cadillac-Corning', 29.0, 407.25),\n",
       " (23, 'Los Angeles - Cloverdale/Cochran', 60.0, 412.29),\n",
       " (39, 'Los Angeles - Figueroa Park Square', 36.0, 412.8),\n",
       " (116, 'Los Angeles - Valley Glen', 124.0, 413.11),\n",
       " (76, 'Los Angeles - Mt. Washington', 100.0, 414.16),\n",
       " (8, 'Los Angeles - Bel Air', 35.0, 415.23),\n",
       " (113, 'Los Angeles - Tujunga', 116.0, 417.12),\n",
       " (83, 'Los Angeles - Palms', 185.0, 421.63),\n",
       " (127, 'Los Angeles - Wellington Square', 21.0, 427.26),\n",
       " (29, 'Los Angeles - Eagle Rock', 170.0, 429.41),\n",
       " (78, 'Los Angeles - North Hollywood', 660.0, 435.87),\n",
       " (64, 'Los Angeles - Little Bangladesh', 124.0, 437.5),\n",
       " (79, 'Los Angeles - Northridge', 314.0, 449.88),\n",
       " (59, 'Los Angeles - Lake Balboa', 190.0, 450.17),\n",
       " (137, 'Los Angeles - Wilshire Center', 228.0, 454.45),\n",
       " (45, 'Los Angeles - Hancock Park', 78.0, 457.77),\n",
       " (111, 'Los Angeles - Toluca Terrace', 6.0, 459.42),\n",
       " (56, 'Los Angeles - Jefferson Park', 38.0, 470.7),\n",
       " (55, 'Los Angeles - Hyde Park', 137.0, 480.01),\n",
       " (25, 'Los Angeles - Crenshaw District', 67.0, 484.49),\n",
       " (66, 'Los Angeles - Longwood', 21.0, 487.92),\n",
       " (20, 'Los Angeles - Chatsworth', 181.0, 488.38),\n",
       " (28, 'Los Angeles - Downtown*', 135.0, 490.78),\n",
       " (57, 'Los Angeles - Koreatown', 261.0, 504.9),\n",
       " (107, 'Los Angeles - Tarzana', 157.0, 508.49),\n",
       " (7, 'Los Angeles - Baldwin Hills', 159.0, 510.84),\n",
       " (43, 'Los Angeles - Granada Hills', 299.0, 513.83),\n",
       " (16, 'Los Angeles - Carthay', 76.0, 529.14),\n",
       " (34, 'Los Angeles - Elysian Valley', 54.0, 530.92),\n",
       " (37, 'Los Angeles - Exposition Park', 239.0, 532.09),\n",
       " (65, 'Los Angeles - Little Tokyo', 17.0, 542.61),\n",
       " (138, 'Los Angeles - Winnetka', 282.0, 544.55),\n",
       " (103, 'Los Angeles - Sun Valley', 286.0, 544.94),\n",
       " (41, 'Los Angeles - Glassell Park', 179.0, 566.38),\n",
       " (75, 'Los Angeles - Mission Hills', 139.0, 576.19),\n",
       " (42, 'Los Angeles - Gramercy Place', 64.0, 594.57),\n",
       " (1, 'Los Angeles - Adams-Normandie', 50.0, 609.61),\n",
       " (24, 'Los Angeles - Country Club Park', 93.0, 613.74),\n",
       " (115, 'Los Angeles - University Park', 172.0, 626.46),\n",
       " (126, 'Los Angeles - Watts', 268.0, 628.02),\n",
       " (4, 'Los Angeles - Angelino Heights', 16.0, 639.49),\n",
       " (93, 'Los Angeles - Reseda Ranch', 30.0, 647.11),\n",
       " (124, 'Los Angeles - Victoria Park', 56.0, 666.75),\n",
       " (77, 'Los Angeles - North Hills', 421.0, 683.72),\n",
       " (19, 'Los Angeles - Century Palms/Cove', 231.0, 684.12),\n",
       " (92, 'Los Angeles - Reseda', 528.0, 689.14),\n",
       " (62, 'Los Angeles - Lincoln Heights', 225.0, 690.25),\n",
       " (72, 'Los Angeles - Melrose', 538.0, 692.44),\n",
       " (104, 'Los Angeles - Sunland', 144.0, 705.61),\n",
       " (44, 'Los Angeles - Green Meadows', 152.0, 706.81),\n",
       " (118, 'Los Angeles - Van Nuys', 664.0, 712.49),\n",
       " (49, 'Los Angeles - Harvard Heights', 129.0, 715.28),\n",
       " (122, 'Los Angeles - Vermont Vista', 298.0, 723.55),\n",
       " (128, 'Los Angeles - West Adams', 202.0, 731.09),\n",
       " (50, 'Los Angeles - Harvard Park', 278.0, 732.83),\n",
       " (11, 'Los Angeles - Boyle Heights*', 638.0, 734.31),\n",
       " (15, 'Los Angeles - Canoga Park', 483.0, 739.79),\n",
       " (30, 'Los Angeles - East Hollywood', 218.0, 744.36),\n",
       " (40, 'Los Angeles - Florence-Firestone', 355.0, 748.23),\n",
       " (26, 'Los Angeles - Crestview', 86.0, 756.51),\n",
       " (5, 'Los Angeles - Arleta', 263.0, 765.2),\n",
       " (120, 'Los Angeles - Vermont Knolls', 133.0, 773.26),\n",
       " (108, 'Los Angeles - Temple-Beaudry', 308.0, 780.1),\n",
       " (60, 'Los Angeles - Lakeview Terrace', 106.0, 807.13),\n",
       " (131, 'Los Angeles - West Vernon', 435.0, 810.9),\n",
       " (117, 'Los Angeles - Valley Village', 203.0, 821.2),\n",
       " (81, 'Los Angeles - Pacoima', 664.0, 862.57),\n",
       " (106, 'Los Angeles - Sylmar*', 749.0, 909.0),\n",
       " (100, 'Los Angeles - South Park', 348.0, 916.73),\n",
       " (84, 'Los Angeles - Panorama City', 693.0, 920.93),\n",
       " (52, 'Los Angeles - Historic Filipinotown', 130.0, 937.27),\n",
       " (17, 'Los Angeles - Central', 372.0, 954.04),\n",
       " (101, 'Los Angeles - St Elmo Village', 44.0, 959.86),\n",
       " (123, 'Los Angeles - Vernon Central', 563.0, 1082.73),\n",
       " (121, 'Los Angeles - Vermont Square', 83.0, 1083.98),\n",
       " (95, 'Los Angeles - San Pedro*', 883.0, 1131.5),\n",
       " (133, 'Los Angeles - Westlake', 693.0, 1167.55),\n",
       " (86, 'Los Angeles - Pico-Union', 514.0, 1228.43),\n",
       " (135, 'Los Angeles - Wholesale District*', 653.0, 1807.41),\n",
       " (63, 'Los Angeles - Little Armenia', 190.0, 2367.6)]"
      ]
     },
     "execution_count": 17,
     "metadata": {},
     "output_type": "execute_result"
    }
   ],
   "source": [
    "cur.execute(\"SELECT * FROM lacovid2 ORDER BY rate;\")\n",
    "cur.fetchall()"
   ]
  },
  {
   "cell_type": "code",
   "execution_count": 18,
   "metadata": {},
   "outputs": [
    {
     "data": {
      "text/plain": [
       "[(13, 'Los Angeles - Brookside', 0.0, 0.0),\n",
       " (3, 'Los Angeles - Angeles National Forest', 0.0, 0.0),\n",
       " (69, 'Los Angeles - Mandeville Canyon', 1.0, 32.01),\n",
       " (105, 'Los Angeles - Sycamore Square', 1.0, 154.56),\n",
       " (87, 'Los Angeles - Playa Del Rey', 3.0, 93.87),\n",
       " (82, 'Los Angeles - Palisades Highlands', 3.0, 78.0),\n",
       " (112, 'Los Angeles - Toluca Woods', 3.0, 161.46),\n",
       " (91, 'Los Angeles - Regent Square', 4.0, 143.88),\n",
       " (38, 'Los Angeles - Faircrest Heights', 4.0, 111.11),\n",
       " (111, 'Los Angeles - Toluca Terrace', 6.0, 459.42),\n",
       " (125, 'Los Angeles - View Heights', 8.0, 216.57),\n",
       " (48, 'Los Angeles - Harbor Pines', 9.0, 373.6),\n",
       " (36, 'Los Angeles - Exposition', 9.0, 270.6),\n",
       " (94, 'Los Angeles - Reynier Village', 10.0, 236.52),\n",
       " (96, 'Los Angeles - Shadow Hills', 10.0, 225.12),\n",
       " (114, 'Los Angeles - University Hills', 11.0, 320.79),\n",
       " (71, 'Los Angeles - Marina Peninsula', 12.0, 275.23),\n",
       " (33, 'Los Angeles - Elysian Park', 16.0, 280.11),\n",
       " (4, 'Los Angeles - Angelino Heights', 16.0, 639.49),\n",
       " (90, 'Los Angeles - Rancho Park', 17.0, 259.15),\n",
       " (65, 'Los Angeles - Little Tokyo', 17.0, 542.61),\n",
       " (58, 'Los Angeles - Lafayette Square', 18.0, 394.82),\n",
       " (68, 'Los Angeles - Manchester Square', 19.0, 222.59),\n",
       " (85, 'Los Angeles - Park La Brea', 19.0, 139.91),\n",
       " (110, 'Los Angeles - Toluca Lake', 19.0, 218.29),\n",
       " (21, 'Los Angeles - Cheviot Hills', 20.0, 218.08),\n",
       " (66, 'Los Angeles - Longwood', 21.0, 487.92),\n",
       " (127, 'Los Angeles - Wellington Square', 21.0, 427.26),\n",
       " (22, 'Los Angeles - Chinatown', 21.0, 261.81),\n",
       " (88, 'Los Angeles - Playa Vista', 23.0, 210.1),\n",
       " (14, 'Los Angeles - Cadillac-Corning', 29.0, 407.25),\n",
       " (109, 'Los Angeles - Thai Town', 30.0, 305.84),\n",
       " (93, 'Los Angeles - Reseda Ranch', 30.0, 647.11),\n",
       " (18, 'Los Angeles - Century City', 32.0, 250.16),\n",
       " (8, 'Los Angeles - Bel Air', 35.0, 415.23),\n",
       " (99, 'Los Angeles - South Carthay', 35.0, 330.34),\n",
       " (39, 'Los Angeles - Figueroa Park Square', 36.0, 412.8),\n",
       " (10, 'Los Angeles - Beverlywood', 37.0, 280.88),\n",
       " (9, 'Los Angeles - Beverly Crest', 37.0, 295.41),\n",
       " (56, 'Los Angeles - Jefferson Park', 38.0, 470.7),\n",
       " (74, 'Los Angeles - Miracle Mile', 40.0, 222.41),\n",
       " (31, 'Los Angeles - Echo Park', 43.0, 301.63),\n",
       " (101, 'Los Angeles - St Elmo Village', 44.0, 959.86),\n",
       " (2, 'Los Angeles - Alsace', 47.0, 377.66),\n",
       " (67, 'Los Angeles - Los Feliz', 49.0, 226.77),\n",
       " (1, 'Los Angeles - Adams-Normandie', 50.0, 609.61),\n",
       " (6, 'Los Angeles - Atwater Village', 51.0, 347.74),\n",
       " (80, 'Los Angeles - Pacific Palisades', 52.0, 244.23),\n",
       " (34, 'Los Angeles - Elysian Valley', 54.0, 530.92),\n",
       " (73, 'Los Angeles - Mid-city', 55.0, 365.93),\n",
       " (124, 'Los Angeles - Victoria Park', 56.0, 666.75),\n",
       " (61, 'Los Angeles - Leimert Park', 56.0, 367.57),\n",
       " (23, 'Los Angeles - Cloverdale/Cochran', 60.0, 412.29),\n",
       " (42, 'Los Angeles - Gramercy Place', 64.0, 594.57),\n",
       " (119, 'Los Angeles - Venice', 65.0, 191.83),\n",
       " (134, 'Los Angeles - Westwood', 66.0, 121.98),\n",
       " (25, 'Los Angeles - Crenshaw District', 67.0, 484.49),\n",
       " (27, 'Los Angeles - Del Rey', 72.0, 240.51),\n",
       " (130, 'Los Angeles - West Los Angeles', 74.0, 196.62),\n",
       " (12, 'Los Angeles - Brentwood', 75.0, 242.29),\n",
       " (16, 'Los Angeles - Carthay', 76.0, 529.14),\n",
       " (102, 'Los Angeles - Studio City', 77.0, 343.14),\n",
       " (45, 'Los Angeles - Hancock Park', 78.0, 457.77),\n",
       " (70, 'Los Angeles - Mar Vista', 80.0, 188.36),\n",
       " (54, 'Los Angeles - Hollywood Hills', 81.0, 275.19),\n",
       " (121, 'Los Angeles - Vermont Square', 83.0, 1083.98),\n",
       " (26, 'Los Angeles - Crestview', 86.0, 756.51),\n",
       " (89, 'Los Angeles - Porter Ranch', 89.0, 250.08),\n",
       " (46, 'Los Angeles - Harbor City', 89.0, 306.16),\n",
       " (132, 'Los Angeles - Westchester', 92.0, 178.28),\n",
       " (24, 'Los Angeles - Country Club Park', 93.0, 613.74),\n",
       " (76, 'Los Angeles - Mt. Washington', 100.0, 414.16),\n",
       " (60, 'Los Angeles - Lakeview Terrace', 106.0, 807.13),\n",
       " (113, 'Los Angeles - Tujunga', 116.0, 417.12),\n",
       " (35, 'Los Angeles - Encino', 120.0, 265.65),\n",
       " (116, 'Los Angeles - Valley Glen', 124.0, 413.11),\n",
       " (64, 'Los Angeles - Little Bangladesh', 124.0, 437.5),\n",
       " (47, 'Los Angeles - Harbor Gateway', 128.0, 293.58),\n",
       " (49, 'Los Angeles - Harvard Heights', 129.0, 715.28),\n",
       " (52, 'Los Angeles - Historic Filipinotown', 130.0, 937.27),\n",
       " (129, 'Los Angeles - West Hills', 130.0, 320.63),\n",
       " (120, 'Los Angeles - Vermont Knolls', 133.0, 773.26),\n",
       " (28, 'Los Angeles - Downtown*', 135.0, 490.78),\n",
       " (55, 'Los Angeles - Hyde Park', 137.0, 480.01),\n",
       " (75, 'Los Angeles - Mission Hills', 139.0, 576.19),\n",
       " (104, 'Los Angeles - Sunland', 144.0, 705.61),\n",
       " (44, 'Los Angeles - Green Meadows', 152.0, 706.81),\n",
       " (139, 'Los Angeles - Woodland Hills', 155.0, 227.76),\n",
       " (32, 'Los Angeles - El Sereno', 156.0, 373.13),\n",
       " (107, 'Los Angeles - Tarzana', 157.0, 508.49),\n",
       " (7, 'Los Angeles - Baldwin Hills', 159.0, 510.84),\n",
       " (29, 'Los Angeles - Eagle Rock', 170.0, 429.41),\n",
       " (115, 'Los Angeles - University Park', 172.0, 626.46),\n",
       " (98, 'Los Angeles - Silverlake', 175.0, 396.98),\n",
       " (41, 'Los Angeles - Glassell Park', 179.0, 566.38),\n",
       " (20, 'Los Angeles - Chatsworth', 181.0, 488.38),\n",
       " (83, 'Los Angeles - Palms', 185.0, 421.63),\n",
       " (51, 'Los Angeles - Highland Park', 188.0, 388.5),\n",
       " (59, 'Los Angeles - Lake Balboa', 190.0, 450.17),\n",
       " (63, 'Los Angeles - Little Armenia', 190.0, 2367.6),\n",
       " (128, 'Los Angeles - West Adams', 202.0, 731.09),\n",
       " (117, 'Los Angeles - Valley Village', 203.0, 821.2),\n",
       " (30, 'Los Angeles - East Hollywood', 218.0, 744.36),\n",
       " (97, 'Los Angeles - Sherman Oaks', 222.0, 254.43),\n",
       " (136, 'Los Angeles - Wilmington', 225.0, 398.32),\n",
       " (62, 'Los Angeles - Lincoln Heights', 225.0, 690.25),\n",
       " (137, 'Los Angeles - Wilshire Center', 228.0, 454.45),\n",
       " (19, 'Los Angeles - Century Palms/Cove', 231.0, 684.12),\n",
       " (37, 'Los Angeles - Exposition Park', 239.0, 532.09),\n",
       " (57, 'Los Angeles - Koreatown', 261.0, 504.9),\n",
       " (5, 'Los Angeles - Arleta', 263.0, 765.2),\n",
       " (53, 'Los Angeles - Hollywood', 264.0, 386.79),\n",
       " (126, 'Los Angeles - Watts', 268.0, 628.02),\n",
       " (50, 'Los Angeles - Harvard Park', 278.0, 732.83),\n",
       " (138, 'Los Angeles - Winnetka', 282.0, 544.55),\n",
       " (103, 'Los Angeles - Sun Valley', 286.0, 544.94),\n",
       " (122, 'Los Angeles - Vermont Vista', 298.0, 723.55),\n",
       " (43, 'Los Angeles - Granada Hills', 299.0, 513.83),\n",
       " (108, 'Los Angeles - Temple-Beaudry', 308.0, 780.1),\n",
       " (79, 'Los Angeles - Northridge', 314.0, 449.88),\n",
       " (100, 'Los Angeles - South Park', 348.0, 916.73),\n",
       " (40, 'Los Angeles - Florence-Firestone', 355.0, 748.23),\n",
       " (17, 'Los Angeles - Central', 372.0, 954.04),\n",
       " (77, 'Los Angeles - North Hills', 421.0, 683.72),\n",
       " (131, 'Los Angeles - West Vernon', 435.0, 810.9),\n",
       " (15, 'Los Angeles - Canoga Park', 483.0, 739.79),\n",
       " (86, 'Los Angeles - Pico-Union', 514.0, 1228.43),\n",
       " (92, 'Los Angeles - Reseda', 528.0, 689.14),\n",
       " (72, 'Los Angeles - Melrose', 538.0, 692.44),\n",
       " (123, 'Los Angeles - Vernon Central', 563.0, 1082.73),\n",
       " (11, 'Los Angeles - Boyle Heights*', 638.0, 734.31),\n",
       " (135, 'Los Angeles - Wholesale District*', 653.0, 1807.41),\n",
       " (78, 'Los Angeles - North Hollywood', 660.0, 435.87),\n",
       " (118, 'Los Angeles - Van Nuys', 664.0, 712.49),\n",
       " (81, 'Los Angeles - Pacoima', 664.0, 862.57),\n",
       " (84, 'Los Angeles - Panorama City', 693.0, 920.93),\n",
       " (133, 'Los Angeles - Westlake', 693.0, 1167.55),\n",
       " (106, 'Los Angeles - Sylmar*', 749.0, 909.0),\n",
       " (95, 'Los Angeles - San Pedro*', 883.0, 1131.5)]"
      ]
     },
     "execution_count": 18,
     "metadata": {},
     "output_type": "execute_result"
    }
   ],
   "source": [
    "cur.execute(\"SELECT * FROM lacovid2 ORDER BY cases;\")\n",
    "cur.fetchall()"
   ]
  },
  {
   "cell_type": "code",
   "execution_count": 19,
   "metadata": {},
   "outputs": [
    {
     "data": {
      "text/plain": [
       "[(29, 'Los Angeles - Eagle Rock', 170.0, 429.41)]"
      ]
     },
     "execution_count": 19,
     "metadata": {},
     "output_type": "execute_result"
    }
   ],
   "source": [
    "cur.execute(\"SELECT * FROM lacovid2 WHERE city = 'Los Angeles - Eagle Rock';\")\n",
    "cur.fetchall()"
   ]
  },
  {
   "cell_type": "code",
   "execution_count": 20,
   "metadata": {},
   "outputs": [],
   "source": [
    "conn.commit()\n",
    "cur.close()\n",
    "conn.close()"
   ]
  }
 ],
 "metadata": {
  "kernelspec": {
   "display_name": "Python 3",
   "language": "python",
   "name": "python3"
  },
  "language_info": {
   "codemirror_mode": {
    "name": "ipython",
    "version": 3
   },
   "file_extension": ".py",
   "mimetype": "text/x-python",
   "name": "python",
   "nbconvert_exporter": "python",
   "pygments_lexer": "ipython3",
   "version": "3.7.6"
  }
 },
 "nbformat": 4,
 "nbformat_minor": 4
}
