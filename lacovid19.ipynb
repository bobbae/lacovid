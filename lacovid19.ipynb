{
 "cells": [
  {
   "cell_type": "code",
   "execution_count": 1,
   "metadata": {},
   "outputs": [
    {
     "data": {
      "text/plain": [
       "'3.7.7'"
      ]
     },
     "execution_count": 1,
     "metadata": {},
     "output_type": "execute_result"
    }
   ],
   "source": [
    "# Settings for notebook\n",
    "from IPython.core.interactiveshell import InteractiveShell\n",
    "InteractiveShell.ast_node_interactivity = \"all\"\n",
    "# Show Python version\n",
    "import platform\n",
    "platform.python_version()"
   ]
  },
  {
   "cell_type": "code",
   "execution_count": 2,
   "metadata": {},
   "outputs": [],
   "source": [
    "try:\n",
    "    import scrapy\n",
    "except:\n",
    "    !pip3 install scrapy\n",
    "    import scrapy\n",
    "from scrapy.crawler import CrawlerProcess"
   ]
  },
  {
   "cell_type": "code",
   "execution_count": 3,
   "metadata": {},
   "outputs": [],
   "source": [
    "import json\n",
    "import logging\n",
    "\n",
    "class QuotesSpider(scrapy.Spider):\n",
    "    name = \"quotes\"\n",
    "    start_urls = [\n",
    "        'http://www.ph.lacounty.gov/media/Coronavirus/locations.htm'\n",
    "    ]\n",
    "    custom_settings = {\n",
    "        'LOG_LEVEL': logging.WARNING,\n",
    "        'FEED_FORMAT':'json',                                 # Used for pipeline 2\n",
    "        'FEED_URI': 'quoteresult.json'                        # Used for pipeline 2\n",
    "    }\n",
    "    \n",
    "    def parse(self, response):\n",
    "        cities = response.xpath('//table/tr/td[1]').extract()\n",
    "        cases = response.xpath('//table/tr/td[2]').extract()\n",
    "        rates = response.xpath('//table/tr/td[3]').extract()\n",
    "        cities = list(map(lambda x: x.replace('<td>','').replace('</td>',''), cities))\n",
    "        cases = list(map(lambda x: x.replace('<td>','').replace('</td>',''), cases))\n",
    "        rates = list(map(lambda x: x.replace('<td>','').replace('</td>',''), rates))\n",
    "        alist=[]\n",
    "        lacitiesdata = { \"lacitiescovid\": alist }\n",
    "        i = 0\n",
    "        for city in cities:\n",
    "            if i<28:\n",
    "                i=i+1\n",
    "                continue\n",
    "            arec = { 'city': city, 'cases': cases[i] , 'rate':rates[i]}\n",
    "            i=i+1\n",
    "            alist.append(arec)\n",
    "        with open('lacovidinfo.json', 'w') as jsonfile:\n",
    "            print(json.dump(lacitiesdata, jsonfile, indent=4))\n",
    "        alist"
   ]
  },
  {
   "cell_type": "code",
   "execution_count": 4,
   "metadata": {},
   "outputs": [
    {
     "name": "stderr",
     "output_type": "stream",
     "text": [
      "2020-05-04 15:24:09 [scrapy.utils.log] INFO: Scrapy 2.0.1 started (bot: scrapybot)\n",
      "2020-05-04 15:24:09 [scrapy.utils.log] INFO: Versions: lxml 4.5.0.0, libxml2 2.9.10, cssselect 1.1.0, parsel 1.5.2, w3lib 1.21.0, Twisted 20.3.0, Python 3.7.7 (default, Mar 11 2020, 09:39:49) - [GCC 5.4.0 20160609], pyOpenSSL 19.1.0 (OpenSSL 1.1.1d  10 Sep 2019), cryptography 2.8, Platform Linux-4.4.0-18362-Microsoft-x86_64-with-debian-buster-sid\n",
      "2020-05-04 15:24:09 [scrapy.utils.log] DEBUG: Using reactor: twisted.internet.epollreactor.EPollReactor\n",
      "2020-05-04 15:24:09 [scrapy.crawler] INFO: Overridden settings:\n",
      "{'FEED_FORMAT': 'json',\n",
      " 'FEED_URI': 'quoteresult.json',\n",
      " 'LOG_LEVEL': 30,\n",
      " 'USER_AGENT': 'Mozilla/4.0 (compatible; MSIE 7.0; Windows NT 5.1)'}\n"
     ]
    },
    {
     "data": {
      "text/plain": [
       "<Deferred at 0x7f6e52e15c50>"
      ]
     },
     "execution_count": 4,
     "metadata": {},
     "output_type": "execute_result"
    },
    {
     "name": "stdout",
     "output_type": "stream",
     "text": [
      "None\n"
     ]
    }
   ],
   "source": [
    "process = CrawlerProcess({\n",
    "    'USER_AGENT': 'Mozilla/4.0 (compatible; MSIE 7.0; Windows NT 5.1)'\n",
    "})\n",
    "\n",
    "process.crawl(QuotesSpider)\n",
    "process.start()\n"
   ]
  },
  {
   "cell_type": "code",
   "execution_count": 5,
   "metadata": {},
   "outputs": [
    {
     "name": "stdout",
     "output_type": "stream",
     "text": [
      "                                      city  cases     rate\n",
      "0            Los Angeles - Adams-Normandie   29.0   353.57\n",
      "1                     Los Angeles - Alsace   32.0   257.13\n",
      "2    Los Angeles - Angeles National Forest    0.0     0.00\n",
      "3           Los Angeles - Angelino Heights    9.0   359.71\n",
      "4                     Los Angeles - Arleta  121.0   352.05\n",
      "5            Los Angeles - Atwater Village   34.0   231.83\n",
      "6              Los Angeles - Baldwin Hills   65.0   208.84\n",
      "7                    Los Angeles - Bel Air   30.0   355.91\n",
      "8              Los Angeles - Beverly Crest   33.0   263.47\n",
      "9                Los Angeles - Beverlywood   33.0   250.51\n",
      "10             Los Angeles - Boyle Heights  236.0   271.63\n",
      "11                 Los Angeles - Brentwood   65.0   209.98\n",
      "12                 Los Angeles - Brookside    0.0     0.00\n",
      "13          Los Angeles - Cadillac-Corning   20.0   280.86\n",
      "14               Los Angeles - Canoga Park  318.0   487.07\n",
      "15                   Los Angeles - Carthay   70.0   487.36\n",
      "16                   Los Angeles - Central  142.0   364.18\n",
      "17              Los Angeles - Century City   30.0   234.52\n",
      "18        Los Angeles - Century Palms/Cove  102.0   302.08\n",
      "19                Los Angeles - Chatsworth  106.0   286.01\n",
      "20             Los Angeles - Cheviot Hills   18.0   196.27\n",
      "21                 Los Angeles - Chinatown    9.0   112.21\n",
      "22        Los Angeles - Cloverdale/Cochran   39.0   267.99\n",
      "23         Los Angeles - Country Club Park   69.0   455.36\n",
      "24         Los Angeles - Crenshaw District   49.0   354.33\n",
      "25                 Los Angeles - Crestview   67.0   589.37\n",
      "26                   Los Angeles - Del Rey   53.0   177.04\n",
      "27                  Los Angeles - Downtown   74.0   269.02\n",
      "28                Los Angeles - Eagle Rock   97.0   245.02\n",
      "29            Los Angeles - East Hollywood  136.0   464.37\n",
      "30                 Los Angeles - Echo Park   20.0   140.29\n",
      "31                 Los Angeles - El Sereno  101.0   241.58\n",
      "32              Los Angeles - Elysian Park    9.0   157.56\n",
      "33            Los Angeles - Elysian Valley   24.0   235.96\n",
      "34                    Los Angeles - Encino   88.0   194.81\n",
      "35                Los Angeles - Exposition    5.0   150.33\n",
      "36           Los Angeles - Exposition Park  142.0   316.14\n",
      "37         Los Angeles - Faircrest Heights    2.0    55.56\n",
      "38      Los Angeles - Figueroa Park Square   20.0   229.33\n",
      "39        Los Angeles - Florence-Firestone  149.0   314.05\n",
      "40             Los Angeles - Glassell Park  113.0   357.55\n",
      "41            Los Angeles - Gramercy Place   33.0   306.58\n",
      "42             Los Angeles - Granada Hills  129.0   221.68\n",
      "43             Los Angeles - Green Meadows   71.0   330.16\n",
      "44              Los Angeles - Hancock Park   67.0   393.22\n",
      "45               Los Angeles - Harbor City   50.0   172.00\n",
      "46            Los Angeles - Harbor Gateway   73.0   167.43\n",
      "47              Los Angeles - Harbor Pines    1.0    41.51\n",
      "48           Los Angeles - Harvard Heights   64.0   354.87\n",
      "49              Los Angeles - Harvard Park  136.0   358.51\n",
      "50             Los Angeles - Highland Park   96.0   198.38\n",
      "51     Los Angeles - Historic Filipinotown   67.0   483.06\n",
      "52                 Los Angeles - Hollywood  199.0   291.56\n",
      "53           Los Angeles - Hollywood Hills   64.0   217.44\n",
      "54                 Los Angeles - Hyde Park   74.0   259.28\n",
      "55            Los Angeles - Jefferson Park   22.0   272.51\n",
      "56                 Los Angeles - Koreatown  149.0   288.24\n",
      "57          Los Angeles - Lafayette Square   14.0   307.08\n",
      "58               Los Angeles - Lake Balboa  107.0   253.52\n",
      "59          Los Angeles - Lakeview Terrace   59.0   449.25\n",
      "60              Los Angeles - Leimert Park   33.0   216.61\n",
      "61           Los Angeles - Lincoln Heights  111.0   340.52\n",
      "62            Los Angeles - Little Armenia   92.0  1146.42\n",
      "63         Los Angeles - Little Bangladesh   80.0   282.26\n",
      "64              Los Angeles - Little Tokyo    7.0   223.43\n",
      "65                  Los Angeles - Longwood   16.0   371.75\n",
      "66                 Los Angeles - Los Feliz   35.0   161.98\n",
      "67         Los Angeles - Manchester Square   14.0   164.01\n",
      "68         Los Angeles - Mandeville Canyon    1.0    32.01\n",
      "69                 Los Angeles - Mar Vista   57.0   134.21\n",
      "70          Los Angeles - Marina Peninsula    9.0   206.42\n",
      "71                   Los Angeles - Melrose  378.0   486.51\n",
      "72                  Los Angeles - Mid-city   39.0   259.48\n",
      "73              Los Angeles - Miracle Mile   36.0   200.17\n",
      "74             Los Angeles - Mission Hills   81.0   335.77\n",
      "75            Los Angeles - Mt. Washington   48.0   198.80\n",
      "76               Los Angeles - North Hills  191.0   310.19\n",
      "77           Los Angeles - North Hollywood  398.0   262.84\n",
      "78                Los Angeles - Northridge  181.0   259.32\n",
      "79         Los Angeles - Pacific Palisades   38.0   178.48\n",
      "80                   Los Angeles - Pacoima  295.0   383.22\n",
      "81       Los Angeles - Palisades Highlands    3.0    78.00\n",
      "82                     Los Angeles - Palms  143.0   325.91\n",
      "83             Los Angeles - Panorama City  339.0   450.50\n",
      "84              Los Angeles - Park La Brea   12.0    88.37\n",
      "85                Los Angeles - Pico-Union  269.0   642.89\n",
      "86             Los Angeles - Playa Del Rey    1.0    31.29\n",
      "87               Los Angeles - Playa Vista   20.0   182.70\n",
      "88              Los Angeles - Porter Ranch   60.0   168.60\n",
      "89               Los Angeles - Rancho Park   12.0   182.93\n",
      "90             Los Angeles - Regent Square    3.0   107.91\n",
      "91                    Los Angeles - Reseda  240.0   313.25\n",
      "92              Los Angeles - Reseda Ranch   22.0   474.55\n",
      "93           Los Angeles - Reynier Village    9.0   212.87\n",
      "94                 Los Angeles - San Pedro  609.0   780.39\n",
      "95              Los Angeles - Shadow Hills    9.0   202.61\n",
      "96              Los Angeles - Sherman Oaks  138.0   158.16\n",
      "97                Los Angeles - Silverlake  121.0   274.48\n",
      "98             Los Angeles - South Carthay   24.0   226.52\n",
      "99                Los Angeles - South Park  131.0   345.09\n",
      "100          Los Angeles - St Elmo Village   18.0   392.67\n",
      "101              Los Angeles - Studio City   52.0   231.73\n",
      "102               Los Angeles - Sun Valley  146.0   278.19\n",
      "103                  Los Angeles - Sunland  101.0   494.90\n",
      "104          Los Angeles - Sycamore Square    1.0   154.56\n",
      "105                   Los Angeles - Sylmar  381.0   462.39\n",
      "106                  Los Angeles - Tarzana   78.0   252.62\n",
      "107           Los Angeles - Temple-Beaudry  168.0   425.51\n",
      "108                Los Angeles - Thai Town   14.0   142.73\n",
      "109              Los Angeles - Toluca Lake   10.0   114.89\n",
      "110           Los Angeles - Toluca Terrace    2.0   153.14\n",
      "111             Los Angeles - Toluca Woods    3.0   161.46\n",
      "112                  Los Angeles - Tujunga   73.0   262.50\n",
      "113         Los Angeles - University Hills    7.0   204.14\n",
      "114          Los Angeles - University Park   88.0   320.51\n",
      "115              Los Angeles - Valley Glen   91.0   303.17\n",
      "116           Los Angeles - Valley Village  128.0   517.80\n",
      "117                 Los Angeles - Van Nuys  345.0   370.20\n",
      "118                   Los Angeles - Venice   50.0   147.56\n",
      "119           Los Angeles - Vermont Knolls   61.0   354.65\n",
      "120           Los Angeles - Vermont Square   51.0   666.06\n",
      "121            Los Angeles - Vermont Vista  130.0   315.64\n",
      "122           Los Angeles - Vernon Central  219.0   421.17\n",
      "123            Los Angeles - Victoria Park   38.0   452.43\n",
      "124             Los Angeles - View Heights    7.0   189.50\n",
      "125                    Los Angeles - Watts  115.0   269.48\n",
      "126        Los Angeles - Wellington Square   13.0   264.50\n",
      "127               Los Angeles - West Adams  126.0   456.03\n",
      "128               Los Angeles - West Hills   59.0   145.52\n",
      "129         Los Angeles - West Los Angeles   61.0   162.08\n",
      "130              Los Angeles - West Vernon  232.0   432.48\n",
      "131              Los Angeles - Westchester   71.0   137.59\n",
      "132                 Los Angeles - Westlake  294.0   495.32\n",
      "133                 Los Angeles - Westwood   52.0    96.10\n",
      "134       Los Angeles - Wholesale District  138.0   381.96\n",
      "135               Los Angeles - Wilmington  105.0   185.88\n",
      "136          Los Angeles - Wilshire Center  125.0   249.15\n",
      "137                 Los Angeles - Winnetka  178.0   343.72\n",
      "138           Los Angeles - Woodland Hills  119.0   174.86\n"
     ]
    }
   ],
   "source": [
    "import pandas as pd\n",
    "\n",
    "def is_number(s):\n",
    "    try:\n",
    "        float(s)\n",
    "        return True\n",
    "    except ValueError:\n",
    "        return False\n",
    "\n",
    "res = pd.read_json('lacovidinfo.json')\n",
    "lcc = res.lacitiescovid\n",
    "alist = []\n",
    "llist = []\n",
    "for x in lcc:\n",
    "    if x['cases'] == '' or  x['cases'] == '--': \n",
    "        continue\n",
    "    if x['rate'] == '--' or x['rate'] == '':\n",
    "        continue\n",
    "    if not is_number(x['cases']):\n",
    "        continue\n",
    "    if not is_number(x['rate']):\n",
    "        continue\n",
    "    anent = { 'city': x['city'], 'cases': float(x['cases']), 'rate': float(x['rate'])}\n",
    "    alist.append(anent)\n",
    "    if not x['city'].startswith('Los Angeles - '):\n",
    "        continue\n",
    "    llist.append(anent)\n",
    "adf = pd.DataFrame(alist)\n",
    "ldf = pd.DataFrame(llist)\n",
    "with pd.option_context('display.max_rows', None, 'display.max_columns', None): \n",
    "    print(ldf)\n"
   ]
  },
  {
   "cell_type": "code",
   "execution_count": 6,
   "metadata": {},
   "outputs": [
    {
     "data": {
      "text/plain": [
       "<matplotlib.axes._subplots.AxesSubplot at 0x7f6e2c137710>"
      ]
     },
     "execution_count": 6,
     "metadata": {},
     "output_type": "execute_result"
    },
    {
     "data": {
      "image/png": "[encoded data removed]",
      "text/plain": [
       "<Figure size 1080x360 with 1 Axes>"
      ]
     },
     "metadata": {
      "needs_background": "light"
     },
     "output_type": "display_data"
    }
   ],
   "source": [
    "ldf[:30].plot(kind='bar', x='city', y='cases', figsize=(15,5))"
   ]
  },
  {
   "cell_type": "code",
   "execution_count": 7,
   "metadata": {},
   "outputs": [
    {
     "data": {
      "text/plain": [
       "<matplotlib.axes._subplots.AxesSubplot at 0x7f6e2950c790>"
      ]
     },
     "execution_count": 7,
     "metadata": {},
     "output_type": "execute_result"
    },
    {
     "data": {
      "image/png": "[encoded data removed]",
      "text/plain": [
       "<Figure size 1080x360 with 1 Axes>"
      ]
     },
     "metadata": {
      "needs_background": "light"
     },
     "output_type": "display_data"
    }
   ],
   "source": [
    "ldf.sort_values(by='cases', ascending=False)[:30].plot(kind='bar', x='city', y='cases', figsize=(15,5))"
   ]
  },
  {
   "cell_type": "code",
   "execution_count": 8,
   "metadata": {},
   "outputs": [
    {
     "name": "stdout",
     "output_type": "stream",
     "text": [
      "                                      city  cases     rate\n",
      "62            Los Angeles - Little Armenia   92.0  1146.42\n",
      "94                 Los Angeles - San Pedro  609.0   780.39\n",
      "120           Los Angeles - Vermont Square   51.0   666.06\n",
      "85                Los Angeles - Pico-Union  269.0   642.89\n",
      "25                 Los Angeles - Crestview   67.0   589.37\n",
      "116           Los Angeles - Valley Village  128.0   517.80\n",
      "132                 Los Angeles - Westlake  294.0   495.32\n",
      "103                  Los Angeles - Sunland  101.0   494.90\n",
      "15                   Los Angeles - Carthay   70.0   487.36\n",
      "14               Los Angeles - Canoga Park  318.0   487.07\n",
      "71                   Los Angeles - Melrose  378.0   486.51\n",
      "51     Los Angeles - Historic Filipinotown   67.0   483.06\n",
      "92              Los Angeles - Reseda Ranch   22.0   474.55\n",
      "29            Los Angeles - East Hollywood  136.0   464.37\n",
      "105                   Los Angeles - Sylmar  381.0   462.39\n",
      "127               Los Angeles - West Adams  126.0   456.03\n",
      "23         Los Angeles - Country Club Park   69.0   455.36\n",
      "123            Los Angeles - Victoria Park   38.0   452.43\n",
      "83             Los Angeles - Panorama City  339.0   450.50\n",
      "59          Los Angeles - Lakeview Terrace   59.0   449.25\n",
      "130              Los Angeles - West Vernon  232.0   432.48\n",
      "107           Los Angeles - Temple-Beaudry  168.0   425.51\n",
      "122           Los Angeles - Vernon Central  219.0   421.17\n",
      "44              Los Angeles - Hancock Park   67.0   393.22\n",
      "100          Los Angeles - St Elmo Village   18.0   392.67\n",
      "80                   Los Angeles - Pacoima  295.0   383.22\n",
      "134       Los Angeles - Wholesale District  138.0   381.96\n",
      "65                  Los Angeles - Longwood   16.0   371.75\n",
      "117                 Los Angeles - Van Nuys  345.0   370.20\n",
      "16                   Los Angeles - Central  142.0   364.18\n",
      "3           Los Angeles - Angelino Heights    9.0   359.71\n",
      "49              Los Angeles - Harvard Park  136.0   358.51\n",
      "40             Los Angeles - Glassell Park  113.0   357.55\n",
      "7                    Los Angeles - Bel Air   30.0   355.91\n",
      "48           Los Angeles - Harvard Heights   64.0   354.87\n",
      "119           Los Angeles - Vermont Knolls   61.0   354.65\n",
      "24         Los Angeles - Crenshaw District   49.0   354.33\n",
      "0            Los Angeles - Adams-Normandie   29.0   353.57\n",
      "4                     Los Angeles - Arleta  121.0   352.05\n",
      "99                Los Angeles - South Park  131.0   345.09\n",
      "137                 Los Angeles - Winnetka  178.0   343.72\n",
      "61           Los Angeles - Lincoln Heights  111.0   340.52\n",
      "74             Los Angeles - Mission Hills   81.0   335.77\n",
      "43             Los Angeles - Green Meadows   71.0   330.16\n",
      "82                     Los Angeles - Palms  143.0   325.91\n",
      "114          Los Angeles - University Park   88.0   320.51\n",
      "36           Los Angeles - Exposition Park  142.0   316.14\n",
      "121            Los Angeles - Vermont Vista  130.0   315.64\n",
      "39        Los Angeles - Florence-Firestone  149.0   314.05\n",
      "91                    Los Angeles - Reseda  240.0   313.25\n",
      "76               Los Angeles - North Hills  191.0   310.19\n",
      "57          Los Angeles - Lafayette Square   14.0   307.08\n",
      "41            Los Angeles - Gramercy Place   33.0   306.58\n",
      "115              Los Angeles - Valley Glen   91.0   303.17\n",
      "18        Los Angeles - Century Palms/Cove  102.0   302.08\n",
      "52                 Los Angeles - Hollywood  199.0   291.56\n",
      "56                 Los Angeles - Koreatown  149.0   288.24\n",
      "19                Los Angeles - Chatsworth  106.0   286.01\n",
      "63         Los Angeles - Little Bangladesh   80.0   282.26\n",
      "13          Los Angeles - Cadillac-Corning   20.0   280.86\n",
      "102               Los Angeles - Sun Valley  146.0   278.19\n",
      "97                Los Angeles - Silverlake  121.0   274.48\n",
      "55            Los Angeles - Jefferson Park   22.0   272.51\n",
      "10             Los Angeles - Boyle Heights  236.0   271.63\n",
      "125                    Los Angeles - Watts  115.0   269.48\n",
      "27                  Los Angeles - Downtown   74.0   269.02\n",
      "22        Los Angeles - Cloverdale/Cochran   39.0   267.99\n",
      "126        Los Angeles - Wellington Square   13.0   264.50\n",
      "8              Los Angeles - Beverly Crest   33.0   263.47\n",
      "77           Los Angeles - North Hollywood  398.0   262.84\n",
      "112                  Los Angeles - Tujunga   73.0   262.50\n",
      "72                  Los Angeles - Mid-city   39.0   259.48\n",
      "78                Los Angeles - Northridge  181.0   259.32\n",
      "54                 Los Angeles - Hyde Park   74.0   259.28\n",
      "1                     Los Angeles - Alsace   32.0   257.13\n",
      "58               Los Angeles - Lake Balboa  107.0   253.52\n",
      "106                  Los Angeles - Tarzana   78.0   252.62\n",
      "9                Los Angeles - Beverlywood   33.0   250.51\n",
      "136          Los Angeles - Wilshire Center  125.0   249.15\n",
      "28                Los Angeles - Eagle Rock   97.0   245.02\n",
      "31                 Los Angeles - El Sereno  101.0   241.58\n",
      "33            Los Angeles - Elysian Valley   24.0   235.96\n",
      "17              Los Angeles - Century City   30.0   234.52\n",
      "5            Los Angeles - Atwater Village   34.0   231.83\n",
      "101              Los Angeles - Studio City   52.0   231.73\n",
      "38      Los Angeles - Figueroa Park Square   20.0   229.33\n",
      "98             Los Angeles - South Carthay   24.0   226.52\n",
      "64              Los Angeles - Little Tokyo    7.0   223.43\n",
      "42             Los Angeles - Granada Hills  129.0   221.68\n",
      "53           Los Angeles - Hollywood Hills   64.0   217.44\n",
      "60              Los Angeles - Leimert Park   33.0   216.61\n",
      "93           Los Angeles - Reynier Village    9.0   212.87\n",
      "11                 Los Angeles - Brentwood   65.0   209.98\n",
      "6              Los Angeles - Baldwin Hills   65.0   208.84\n",
      "70          Los Angeles - Marina Peninsula    9.0   206.42\n",
      "113         Los Angeles - University Hills    7.0   204.14\n",
      "95              Los Angeles - Shadow Hills    9.0   202.61\n",
      "73              Los Angeles - Miracle Mile   36.0   200.17\n",
      "75            Los Angeles - Mt. Washington   48.0   198.80\n",
      "50             Los Angeles - Highland Park   96.0   198.38\n",
      "20             Los Angeles - Cheviot Hills   18.0   196.27\n",
      "34                    Los Angeles - Encino   88.0   194.81\n",
      "124             Los Angeles - View Heights    7.0   189.50\n",
      "135               Los Angeles - Wilmington  105.0   185.88\n",
      "89               Los Angeles - Rancho Park   12.0   182.93\n",
      "87               Los Angeles - Playa Vista   20.0   182.70\n",
      "79         Los Angeles - Pacific Palisades   38.0   178.48\n",
      "26                   Los Angeles - Del Rey   53.0   177.04\n",
      "138           Los Angeles - Woodland Hills  119.0   174.86\n",
      "45               Los Angeles - Harbor City   50.0   172.00\n",
      "88              Los Angeles - Porter Ranch   60.0   168.60\n",
      "46            Los Angeles - Harbor Gateway   73.0   167.43\n",
      "67         Los Angeles - Manchester Square   14.0   164.01\n",
      "129         Los Angeles - West Los Angeles   61.0   162.08\n",
      "66                 Los Angeles - Los Feliz   35.0   161.98\n",
      "111             Los Angeles - Toluca Woods    3.0   161.46\n",
      "96              Los Angeles - Sherman Oaks  138.0   158.16\n",
      "32              Los Angeles - Elysian Park    9.0   157.56\n",
      "104          Los Angeles - Sycamore Square    1.0   154.56\n",
      "110           Los Angeles - Toluca Terrace    2.0   153.14\n",
      "35                Los Angeles - Exposition    5.0   150.33\n",
      "118                   Los Angeles - Venice   50.0   147.56\n",
      "128               Los Angeles - West Hills   59.0   145.52\n",
      "108                Los Angeles - Thai Town   14.0   142.73\n",
      "30                 Los Angeles - Echo Park   20.0   140.29\n",
      "131              Los Angeles - Westchester   71.0   137.59\n",
      "69                 Los Angeles - Mar Vista   57.0   134.21\n",
      "109              Los Angeles - Toluca Lake   10.0   114.89\n",
      "21                 Los Angeles - Chinatown    9.0   112.21\n",
      "90             Los Angeles - Regent Square    3.0   107.91\n",
      "133                 Los Angeles - Westwood   52.0    96.10\n",
      "84              Los Angeles - Park La Brea   12.0    88.37\n",
      "81       Los Angeles - Palisades Highlands    3.0    78.00\n",
      "37         Los Angeles - Faircrest Heights    2.0    55.56\n",
      "47              Los Angeles - Harbor Pines    1.0    41.51\n",
      "68         Los Angeles - Mandeville Canyon    1.0    32.01\n",
      "86             Los Angeles - Playa Del Rey    1.0    31.29\n",
      "12                 Los Angeles - Brookside    0.0     0.00\n",
      "2    Los Angeles - Angeles National Forest    0.0     0.00\n"
     ]
    }
   ],
   "source": [
    "with pd.option_context('display.max_rows', None, 'display.max_columns', None): \n",
    "    print(ldf.sort_values(by='rate', ascending=False))\n"
   ]
  },
  {
   "cell_type": "code",
   "execution_count": 9,
   "metadata": {},
   "outputs": [
    {
     "data": {
      "text/plain": [
       "<matplotlib.axes._subplots.AxesSubplot at 0x7f6e295c5090>"
      ]
     },
     "execution_count": 9,
     "metadata": {},
     "output_type": "execute_result"
    },
    {
     "data": {
      "image/png": "[encoded data removed]",
      "text/plain": [
       "<Figure size 1080x360 with 1 Axes>"
      ]
     },
     "metadata": {
      "needs_background": "light"
     },
     "output_type": "display_data"
    }
   ],
   "source": [
    "ldf.sort_values(by='rate', ascending=False)[:30].plot(kind='bar', x='city', y='rate', figsize=(15,5))"
   ]
  },
  {
   "cell_type": "code",
   "execution_count": 10,
   "metadata": {},
   "outputs": [],
   "source": [
    "import os\n",
    "import psycopg2\n",
    "\n",
    "DATABASE_URL = os.environ['DATABASE_URL']\n",
    "\n",
    "conn = psycopg2.connect(DATABASE_URL, sslmode='require')"
   ]
  },
  {
   "cell_type": "code",
   "execution_count": 11,
   "metadata": {},
   "outputs": [
    {
     "data": {
      "text/plain": [
       "[('public', 'test', 'blrxwnroakzmlk', None, True, False, False, False),\n",
       " ('public', 'lacovid2', 'blrxwnroakzmlk', None, True, False, False, False)]"
      ]
     },
     "execution_count": 11,
     "metadata": {},
     "output_type": "execute_result"
    }
   ],
   "source": [
    "cur = conn.cursor()\n",
    "cur.execute(\"SELECT * FROM pg_catalog.pg_tables WHERE schemaname != 'pg_catalog' AND schemaname != 'information_schema';\")\n",
    "cur.fetchall()"
   ]
  },
  {
   "cell_type": "code",
   "execution_count": 12,
   "metadata": {},
   "outputs": [],
   "source": [
    "#cur.execute(\"CREATE TABLE test (id serial PRIMARY KEY, num integer, data varchar);\")"
   ]
  },
  {
   "cell_type": "code",
   "execution_count": 13,
   "metadata": {},
   "outputs": [],
   "source": [
    "#cur.execute(\"INSERT INTO test (num, data) VALUES (%s, %s)\",(100, \"abc'def\"))"
   ]
  },
  {
   "cell_type": "code",
   "execution_count": 14,
   "metadata": {},
   "outputs": [
    {
     "data": {
      "text/plain": [
       "(1, 100, \"abc'def\")"
      ]
     },
     "execution_count": 14,
     "metadata": {},
     "output_type": "execute_result"
    }
   ],
   "source": [
    "cur.execute(\"SELECT * FROM test;\")\n",
    "cur.fetchone()"
   ]
  },
  {
   "cell_type": "code",
   "execution_count": 15,
   "metadata": {},
   "outputs": [],
   "source": [
    "cur.execute(\"DROP TABLE lacovid2;\")\n",
    "cur.execute(\"CREATE TABLE lacovid2 (id serial, city varchar PRIMARY KEY, cases float, rate float);\")"
   ]
  },
  {
   "cell_type": "code",
   "execution_count": 16,
   "metadata": {},
   "outputs": [],
   "source": [
    "for d in ldf.to_dict('records'):\n",
    "   cur.execute(\"INSERT INTO lacovid2 (city, cases, rate) VALUES (%s, %s, %s)\",(d['city'],d['cases'], d['rate']))"
   ]
  },
  {
   "cell_type": "code",
   "execution_count": 17,
   "metadata": {},
   "outputs": [
    {
     "data": {
      "text/plain": [
       "[(13, 'Los Angeles - Brookside', 0.0, 0.0),\n",
       " (3, 'Los Angeles - Angeles National Forest', 0.0, 0.0),\n",
       " (87, 'Los Angeles - Playa Del Rey', 1.0, 31.29),\n",
       " (69, 'Los Angeles - Mandeville Canyon', 1.0, 32.01),\n",
       " (48, 'Los Angeles - Harbor Pines', 1.0, 41.51),\n",
       " (38, 'Los Angeles - Faircrest Heights', 2.0, 55.56),\n",
       " (82, 'Los Angeles - Palisades Highlands', 3.0, 78.0),\n",
       " (85, 'Los Angeles - Park La Brea', 12.0, 88.37),\n",
       " (134, 'Los Angeles - Westwood', 52.0, 96.1),\n",
       " (91, 'Los Angeles - Regent Square', 3.0, 107.91),\n",
       " (22, 'Los Angeles - Chinatown', 9.0, 112.21),\n",
       " (110, 'Los Angeles - Toluca Lake', 10.0, 114.89),\n",
       " (70, 'Los Angeles - Mar Vista', 57.0, 134.21),\n",
       " (132, 'Los Angeles - Westchester', 71.0, 137.59),\n",
       " (31, 'Los Angeles - Echo Park', 20.0, 140.29),\n",
       " (109, 'Los Angeles - Thai Town', 14.0, 142.73),\n",
       " (129, 'Los Angeles - West Hills', 59.0, 145.52),\n",
       " (119, 'Los Angeles - Venice', 50.0, 147.56),\n",
       " (36, 'Los Angeles - Exposition', 5.0, 150.33),\n",
       " (111, 'Los Angeles - Toluca Terrace', 2.0, 153.14),\n",
       " (105, 'Los Angeles - Sycamore Square', 1.0, 154.56),\n",
       " (33, 'Los Angeles - Elysian Park', 9.0, 157.56),\n",
       " (97, 'Los Angeles - Sherman Oaks', 138.0, 158.16),\n",
       " (112, 'Los Angeles - Toluca Woods', 3.0, 161.46),\n",
       " (67, 'Los Angeles - Los Feliz', 35.0, 161.98),\n",
       " (130, 'Los Angeles - West Los Angeles', 61.0, 162.08),\n",
       " (68, 'Los Angeles - Manchester Square', 14.0, 164.01),\n",
       " (47, 'Los Angeles - Harbor Gateway', 73.0, 167.43),\n",
       " (89, 'Los Angeles - Porter Ranch', 60.0, 168.6),\n",
       " (46, 'Los Angeles - Harbor City', 50.0, 172.0),\n",
       " (139, 'Los Angeles - Woodland Hills', 119.0, 174.86),\n",
       " (27, 'Los Angeles - Del Rey', 53.0, 177.04),\n",
       " (80, 'Los Angeles - Pacific Palisades', 38.0, 178.48),\n",
       " (88, 'Los Angeles - Playa Vista', 20.0, 182.7),\n",
       " (90, 'Los Angeles - Rancho Park', 12.0, 182.93),\n",
       " (136, 'Los Angeles - Wilmington', 105.0, 185.88),\n",
       " (125, 'Los Angeles - View Heights', 7.0, 189.5),\n",
       " (35, 'Los Angeles - Encino', 88.0, 194.81),\n",
       " (21, 'Los Angeles - Cheviot Hills', 18.0, 196.27),\n",
       " (51, 'Los Angeles - Highland Park', 96.0, 198.38),\n",
       " (76, 'Los Angeles - Mt. Washington', 48.0, 198.8),\n",
       " (74, 'Los Angeles - Miracle Mile', 36.0, 200.17),\n",
       " (96, 'Los Angeles - Shadow Hills', 9.0, 202.61),\n",
       " (114, 'Los Angeles - University Hills', 7.0, 204.14),\n",
       " (71, 'Los Angeles - Marina Peninsula', 9.0, 206.42),\n",
       " (7, 'Los Angeles - Baldwin Hills', 65.0, 208.84),\n",
       " (12, 'Los Angeles - Brentwood', 65.0, 209.98),\n",
       " (94, 'Los Angeles - Reynier Village', 9.0, 212.87),\n",
       " (61, 'Los Angeles - Leimert Park', 33.0, 216.61),\n",
       " (54, 'Los Angeles - Hollywood Hills', 64.0, 217.44),\n",
       " (43, 'Los Angeles - Granada Hills', 129.0, 221.68),\n",
       " (65, 'Los Angeles - Little Tokyo', 7.0, 223.43),\n",
       " (99, 'Los Angeles - South Carthay', 24.0, 226.52),\n",
       " (39, 'Los Angeles - Figueroa Park Square', 20.0, 229.33),\n",
       " (102, 'Los Angeles - Studio City', 52.0, 231.73),\n",
       " (6, 'Los Angeles - Atwater Village', 34.0, 231.83),\n",
       " (18, 'Los Angeles - Century City', 30.0, 234.52),\n",
       " (34, 'Los Angeles - Elysian Valley', 24.0, 235.96),\n",
       " (32, 'Los Angeles - El Sereno', 101.0, 241.58),\n",
       " (29, 'Los Angeles - Eagle Rock', 97.0, 245.02),\n",
       " (137, 'Los Angeles - Wilshire Center', 125.0, 249.15),\n",
       " (10, 'Los Angeles - Beverlywood', 33.0, 250.51),\n",
       " (107, 'Los Angeles - Tarzana', 78.0, 252.62),\n",
       " (59, 'Los Angeles - Lake Balboa', 107.0, 253.52),\n",
       " (2, 'Los Angeles - Alsace', 32.0, 257.13),\n",
       " (55, 'Los Angeles - Hyde Park', 74.0, 259.28),\n",
       " (79, 'Los Angeles - Northridge', 181.0, 259.32),\n",
       " (73, 'Los Angeles - Mid-city', 39.0, 259.48),\n",
       " (113, 'Los Angeles - Tujunga', 73.0, 262.5),\n",
       " (78, 'Los Angeles - North Hollywood', 398.0, 262.84),\n",
       " (9, 'Los Angeles - Beverly Crest', 33.0, 263.47),\n",
       " (127, 'Los Angeles - Wellington Square', 13.0, 264.5),\n",
       " (23, 'Los Angeles - Cloverdale/Cochran', 39.0, 267.99),\n",
       " (28, 'Los Angeles - Downtown', 74.0, 269.02),\n",
       " (126, 'Los Angeles - Watts', 115.0, 269.48),\n",
       " (11, 'Los Angeles - Boyle Heights', 236.0, 271.63),\n",
       " (56, 'Los Angeles - Jefferson Park', 22.0, 272.51),\n",
       " (98, 'Los Angeles - Silverlake', 121.0, 274.48),\n",
       " (103, 'Los Angeles - Sun Valley', 146.0, 278.19),\n",
       " (14, 'Los Angeles - Cadillac-Corning', 20.0, 280.86),\n",
       " (64, 'Los Angeles - Little Bangladesh', 80.0, 282.26),\n",
       " (20, 'Los Angeles - Chatsworth', 106.0, 286.01),\n",
       " (57, 'Los Angeles - Koreatown', 149.0, 288.24),\n",
       " (53, 'Los Angeles - Hollywood', 199.0, 291.56),\n",
       " (19, 'Los Angeles - Century Palms/Cove', 102.0, 302.08),\n",
       " (116, 'Los Angeles - Valley Glen', 91.0, 303.17),\n",
       " (42, 'Los Angeles - Gramercy Place', 33.0, 306.58),\n",
       " (58, 'Los Angeles - Lafayette Square', 14.0, 307.08),\n",
       " (77, 'Los Angeles - North Hills', 191.0, 310.19),\n",
       " (92, 'Los Angeles - Reseda', 240.0, 313.25),\n",
       " (40, 'Los Angeles - Florence-Firestone', 149.0, 314.05),\n",
       " (122, 'Los Angeles - Vermont Vista', 130.0, 315.64),\n",
       " (37, 'Los Angeles - Exposition Park', 142.0, 316.14),\n",
       " (115, 'Los Angeles - University Park', 88.0, 320.51),\n",
       " (83, 'Los Angeles - Palms', 143.0, 325.91),\n",
       " (44, 'Los Angeles - Green Meadows', 71.0, 330.16),\n",
       " (75, 'Los Angeles - Mission Hills', 81.0, 335.77),\n",
       " (62, 'Los Angeles - Lincoln Heights', 111.0, 340.52),\n",
       " (138, 'Los Angeles - Winnetka', 178.0, 343.72),\n",
       " (100, 'Los Angeles - South Park', 131.0, 345.09),\n",
       " (5, 'Los Angeles - Arleta', 121.0, 352.05),\n",
       " (1, 'Los Angeles - Adams-Normandie', 29.0, 353.57),\n",
       " (25, 'Los Angeles - Crenshaw District', 49.0, 354.33),\n",
       " (120, 'Los Angeles - Vermont Knolls', 61.0, 354.65),\n",
       " (49, 'Los Angeles - Harvard Heights', 64.0, 354.87),\n",
       " (8, 'Los Angeles - Bel Air', 30.0, 355.91),\n",
       " (41, 'Los Angeles - Glassell Park', 113.0, 357.55),\n",
       " (50, 'Los Angeles - Harvard Park', 136.0, 358.51),\n",
       " (4, 'Los Angeles - Angelino Heights', 9.0, 359.71),\n",
       " (17, 'Los Angeles - Central', 142.0, 364.18),\n",
       " (118, 'Los Angeles - Van Nuys', 345.0, 370.2),\n",
       " (66, 'Los Angeles - Longwood', 16.0, 371.75),\n",
       " (135, 'Los Angeles - Wholesale District', 138.0, 381.96),\n",
       " (81, 'Los Angeles - Pacoima', 295.0, 383.22),\n",
       " (101, 'Los Angeles - St Elmo Village', 18.0, 392.67),\n",
       " (45, 'Los Angeles - Hancock Park', 67.0, 393.22),\n",
       " (123, 'Los Angeles - Vernon Central', 219.0, 421.17),\n",
       " (108, 'Los Angeles - Temple-Beaudry', 168.0, 425.51),\n",
       " (131, 'Los Angeles - West Vernon', 232.0, 432.48),\n",
       " (60, 'Los Angeles - Lakeview Terrace', 59.0, 449.25),\n",
       " (84, 'Los Angeles - Panorama City', 339.0, 450.5),\n",
       " (124, 'Los Angeles - Victoria Park', 38.0, 452.43),\n",
       " (24, 'Los Angeles - Country Club Park', 69.0, 455.36),\n",
       " (128, 'Los Angeles - West Adams', 126.0, 456.03),\n",
       " (106, 'Los Angeles - Sylmar', 381.0, 462.39),\n",
       " (30, 'Los Angeles - East Hollywood', 136.0, 464.37),\n",
       " (93, 'Los Angeles - Reseda Ranch', 22.0, 474.55),\n",
       " (52, 'Los Angeles - Historic Filipinotown', 67.0, 483.06),\n",
       " (72, 'Los Angeles - Melrose', 378.0, 486.51),\n",
       " (15, 'Los Angeles - Canoga Park', 318.0, 487.07),\n",
       " (16, 'Los Angeles - Carthay', 70.0, 487.36),\n",
       " (104, 'Los Angeles - Sunland', 101.0, 494.9),\n",
       " (133, 'Los Angeles - Westlake', 294.0, 495.32),\n",
       " (117, 'Los Angeles - Valley Village', 128.0, 517.8),\n",
       " (26, 'Los Angeles - Crestview', 67.0, 589.37),\n",
       " (86, 'Los Angeles - Pico-Union', 269.0, 642.89),\n",
       " (121, 'Los Angeles - Vermont Square', 51.0, 666.06),\n",
       " (95, 'Los Angeles - San Pedro', 609.0, 780.39),\n",
       " (63, 'Los Angeles - Little Armenia', 92.0, 1146.42)]"
      ]
     },
     "execution_count": 17,
     "metadata": {},
     "output_type": "execute_result"
    }
   ],
   "source": [
    "cur.execute(\"SELECT * FROM lacovid2 ORDER BY rate;\")\n",
    "cur.fetchall()"
   ]
  },
  {
   "cell_type": "code",
   "execution_count": 18,
   "metadata": {},
   "outputs": [
    {
     "data": {
      "text/plain": [
       "[(3, 'Los Angeles - Angeles National Forest', 0.0, 0.0),\n",
       " (13, 'Los Angeles - Brookside', 0.0, 0.0),\n",
       " (69, 'Los Angeles - Mandeville Canyon', 1.0, 32.01),\n",
       " (105, 'Los Angeles - Sycamore Square', 1.0, 154.56),\n",
       " (87, 'Los Angeles - Playa Del Rey', 1.0, 31.29),\n",
       " (48, 'Los Angeles - Harbor Pines', 1.0, 41.51),\n",
       " (38, 'Los Angeles - Faircrest Heights', 2.0, 55.56),\n",
       " (111, 'Los Angeles - Toluca Terrace', 2.0, 153.14),\n",
       " (112, 'Los Angeles - Toluca Woods', 3.0, 161.46),\n",
       " (82, 'Los Angeles - Palisades Highlands', 3.0, 78.0),\n",
       " (91, 'Los Angeles - Regent Square', 3.0, 107.91),\n",
       " (36, 'Los Angeles - Exposition', 5.0, 150.33),\n",
       " (125, 'Los Angeles - View Heights', 7.0, 189.5),\n",
       " (114, 'Los Angeles - University Hills', 7.0, 204.14),\n",
       " (65, 'Los Angeles - Little Tokyo', 7.0, 223.43),\n",
       " (33, 'Los Angeles - Elysian Park', 9.0, 157.56),\n",
       " (71, 'Los Angeles - Marina Peninsula', 9.0, 206.42),\n",
       " (96, 'Los Angeles - Shadow Hills', 9.0, 202.61),\n",
       " (22, 'Los Angeles - Chinatown', 9.0, 112.21),\n",
       " (4, 'Los Angeles - Angelino Heights', 9.0, 359.71),\n",
       " (94, 'Los Angeles - Reynier Village', 9.0, 212.87),\n",
       " (110, 'Los Angeles - Toluca Lake', 10.0, 114.89),\n",
       " (85, 'Los Angeles - Park La Brea', 12.0, 88.37),\n",
       " (90, 'Los Angeles - Rancho Park', 12.0, 182.93),\n",
       " (127, 'Los Angeles - Wellington Square', 13.0, 264.5),\n",
       " (68, 'Los Angeles - Manchester Square', 14.0, 164.01),\n",
       " (58, 'Los Angeles - Lafayette Square', 14.0, 307.08),\n",
       " (109, 'Los Angeles - Thai Town', 14.0, 142.73),\n",
       " (66, 'Los Angeles - Longwood', 16.0, 371.75),\n",
       " (101, 'Los Angeles - St Elmo Village', 18.0, 392.67),\n",
       " (21, 'Los Angeles - Cheviot Hills', 18.0, 196.27),\n",
       " (88, 'Los Angeles - Playa Vista', 20.0, 182.7),\n",
       " (39, 'Los Angeles - Figueroa Park Square', 20.0, 229.33),\n",
       " (31, 'Los Angeles - Echo Park', 20.0, 140.29),\n",
       " (14, 'Los Angeles - Cadillac-Corning', 20.0, 280.86),\n",
       " (93, 'Los Angeles - Reseda Ranch', 22.0, 474.55),\n",
       " (56, 'Los Angeles - Jefferson Park', 22.0, 272.51),\n",
       " (99, 'Los Angeles - South Carthay', 24.0, 226.52),\n",
       " (34, 'Los Angeles - Elysian Valley', 24.0, 235.96),\n",
       " (1, 'Los Angeles - Adams-Normandie', 29.0, 353.57),\n",
       " (18, 'Los Angeles - Century City', 30.0, 234.52),\n",
       " (8, 'Los Angeles - Bel Air', 30.0, 355.91),\n",
       " (2, 'Los Angeles - Alsace', 32.0, 257.13),\n",
       " (10, 'Los Angeles - Beverlywood', 33.0, 250.51),\n",
       " (42, 'Los Angeles - Gramercy Place', 33.0, 306.58),\n",
       " (61, 'Los Angeles - Leimert Park', 33.0, 216.61),\n",
       " (9, 'Los Angeles - Beverly Crest', 33.0, 263.47),\n",
       " (6, 'Los Angeles - Atwater Village', 34.0, 231.83),\n",
       " (67, 'Los Angeles - Los Feliz', 35.0, 161.98),\n",
       " (74, 'Los Angeles - Miracle Mile', 36.0, 200.17),\n",
       " (124, 'Los Angeles - Victoria Park', 38.0, 452.43),\n",
       " (80, 'Los Angeles - Pacific Palisades', 38.0, 178.48),\n",
       " (23, 'Los Angeles - Cloverdale/Cochran', 39.0, 267.99),\n",
       " (73, 'Los Angeles - Mid-city', 39.0, 259.48),\n",
       " (76, 'Los Angeles - Mt. Washington', 48.0, 198.8),\n",
       " (25, 'Los Angeles - Crenshaw District', 49.0, 354.33),\n",
       " (46, 'Los Angeles - Harbor City', 50.0, 172.0),\n",
       " (119, 'Los Angeles - Venice', 50.0, 147.56),\n",
       " (121, 'Los Angeles - Vermont Square', 51.0, 666.06),\n",
       " (134, 'Los Angeles - Westwood', 52.0, 96.1),\n",
       " (102, 'Los Angeles - Studio City', 52.0, 231.73),\n",
       " (27, 'Los Angeles - Del Rey', 53.0, 177.04),\n",
       " (70, 'Los Angeles - Mar Vista', 57.0, 134.21),\n",
       " (129, 'Los Angeles - West Hills', 59.0, 145.52),\n",
       " (60, 'Los Angeles - Lakeview Terrace', 59.0, 449.25),\n",
       " (89, 'Los Angeles - Porter Ranch', 60.0, 168.6),\n",
       " (130, 'Los Angeles - West Los Angeles', 61.0, 162.08),\n",
       " (120, 'Los Angeles - Vermont Knolls', 61.0, 354.65),\n",
       " (54, 'Los Angeles - Hollywood Hills', 64.0, 217.44),\n",
       " (49, 'Los Angeles - Harvard Heights', 64.0, 354.87),\n",
       " (7, 'Los Angeles - Baldwin Hills', 65.0, 208.84),\n",
       " (12, 'Los Angeles - Brentwood', 65.0, 209.98),\n",
       " (52, 'Los Angeles - Historic Filipinotown', 67.0, 483.06),\n",
       " (45, 'Los Angeles - Hancock Park', 67.0, 393.22),\n",
       " (26, 'Los Angeles - Crestview', 67.0, 589.37),\n",
       " (24, 'Los Angeles - Country Club Park', 69.0, 455.36),\n",
       " (16, 'Los Angeles - Carthay', 70.0, 487.36),\n",
       " (44, 'Los Angeles - Green Meadows', 71.0, 330.16),\n",
       " (132, 'Los Angeles - Westchester', 71.0, 137.59),\n",
       " (47, 'Los Angeles - Harbor Gateway', 73.0, 167.43),\n",
       " (113, 'Los Angeles - Tujunga', 73.0, 262.5),\n",
       " (55, 'Los Angeles - Hyde Park', 74.0, 259.28),\n",
       " (28, 'Los Angeles - Downtown', 74.0, 269.02),\n",
       " (107, 'Los Angeles - Tarzana', 78.0, 252.62),\n",
       " (64, 'Los Angeles - Little Bangladesh', 80.0, 282.26),\n",
       " (75, 'Los Angeles - Mission Hills', 81.0, 335.77),\n",
       " (115, 'Los Angeles - University Park', 88.0, 320.51),\n",
       " (35, 'Los Angeles - Encino', 88.0, 194.81),\n",
       " (116, 'Los Angeles - Valley Glen', 91.0, 303.17),\n",
       " (63, 'Los Angeles - Little Armenia', 92.0, 1146.42),\n",
       " (51, 'Los Angeles - Highland Park', 96.0, 198.38),\n",
       " (29, 'Los Angeles - Eagle Rock', 97.0, 245.02),\n",
       " (32, 'Los Angeles - El Sereno', 101.0, 241.58),\n",
       " (104, 'Los Angeles - Sunland', 101.0, 494.9),\n",
       " (19, 'Los Angeles - Century Palms/Cove', 102.0, 302.08),\n",
       " (136, 'Los Angeles - Wilmington', 105.0, 185.88),\n",
       " (20, 'Los Angeles - Chatsworth', 106.0, 286.01),\n",
       " (59, 'Los Angeles - Lake Balboa', 107.0, 253.52),\n",
       " (62, 'Los Angeles - Lincoln Heights', 111.0, 340.52),\n",
       " (41, 'Los Angeles - Glassell Park', 113.0, 357.55),\n",
       " (126, 'Los Angeles - Watts', 115.0, 269.48),\n",
       " (139, 'Los Angeles - Woodland Hills', 119.0, 174.86),\n",
       " (98, 'Los Angeles - Silverlake', 121.0, 274.48),\n",
       " (5, 'Los Angeles - Arleta', 121.0, 352.05),\n",
       " (137, 'Los Angeles - Wilshire Center', 125.0, 249.15),\n",
       " (128, 'Los Angeles - West Adams', 126.0, 456.03),\n",
       " (117, 'Los Angeles - Valley Village', 128.0, 517.8),\n",
       " (43, 'Los Angeles - Granada Hills', 129.0, 221.68),\n",
       " (122, 'Los Angeles - Vermont Vista', 130.0, 315.64),\n",
       " (100, 'Los Angeles - South Park', 131.0, 345.09),\n",
       " (50, 'Los Angeles - Harvard Park', 136.0, 358.51),\n",
       " (30, 'Los Angeles - East Hollywood', 136.0, 464.37),\n",
       " (135, 'Los Angeles - Wholesale District', 138.0, 381.96),\n",
       " (97, 'Los Angeles - Sherman Oaks', 138.0, 158.16),\n",
       " (37, 'Los Angeles - Exposition Park', 142.0, 316.14),\n",
       " (17, 'Los Angeles - Central', 142.0, 364.18),\n",
       " (83, 'Los Angeles - Palms', 143.0, 325.91),\n",
       " (103, 'Los Angeles - Sun Valley', 146.0, 278.19),\n",
       " (40, 'Los Angeles - Florence-Firestone', 149.0, 314.05),\n",
       " (57, 'Los Angeles - Koreatown', 149.0, 288.24),\n",
       " (108, 'Los Angeles - Temple-Beaudry', 168.0, 425.51),\n",
       " (138, 'Los Angeles - Winnetka', 178.0, 343.72),\n",
       " (79, 'Los Angeles - Northridge', 181.0, 259.32),\n",
       " (77, 'Los Angeles - North Hills', 191.0, 310.19),\n",
       " (53, 'Los Angeles - Hollywood', 199.0, 291.56),\n",
       " (123, 'Los Angeles - Vernon Central', 219.0, 421.17),\n",
       " (131, 'Los Angeles - West Vernon', 232.0, 432.48),\n",
       " (11, 'Los Angeles - Boyle Heights', 236.0, 271.63),\n",
       " (92, 'Los Angeles - Reseda', 240.0, 313.25),\n",
       " (86, 'Los Angeles - Pico-Union', 269.0, 642.89),\n",
       " (133, 'Los Angeles - Westlake', 294.0, 495.32),\n",
       " (81, 'Los Angeles - Pacoima', 295.0, 383.22),\n",
       " (15, 'Los Angeles - Canoga Park', 318.0, 487.07),\n",
       " (84, 'Los Angeles - Panorama City', 339.0, 450.5),\n",
       " (118, 'Los Angeles - Van Nuys', 345.0, 370.2),\n",
       " (72, 'Los Angeles - Melrose', 378.0, 486.51),\n",
       " (106, 'Los Angeles - Sylmar', 381.0, 462.39),\n",
       " (78, 'Los Angeles - North Hollywood', 398.0, 262.84),\n",
       " (95, 'Los Angeles - San Pedro', 609.0, 780.39)]"
      ]
     },
     "execution_count": 18,
     "metadata": {},
     "output_type": "execute_result"
    }
   ],
   "source": [
    "cur.execute(\"SELECT * FROM lacovid2 ORDER BY cases;\")\n",
    "cur.fetchall()"
   ]
  },
  {
   "cell_type": "code",
   "execution_count": 19,
   "metadata": {},
   "outputs": [
    {
     "data": {
      "text/plain": [
       "[(29, 'Los Angeles - Eagle Rock', 97.0, 245.02)]"
      ]
     },
     "execution_count": 19,
     "metadata": {},
     "output_type": "execute_result"
    }
   ],
   "source": [
    "cur.execute(\"SELECT * FROM lacovid2 WHERE city = 'Los Angeles - Eagle Rock';\")\n",
    "cur.fetchall()"
   ]
  },
  {
   "cell_type": "code",
   "execution_count": 20,
   "metadata": {},
   "outputs": [],
   "source": [
    "conn.commit()\n",
    "cur.close()\n",
    "conn.close()"
   ]
  }
 ],
 "metadata": {
  "kernelspec": {
   "display_name": "Python 3",
   "language": "python",
   "name": "python3"
  },
  "language_info": {
   "codemirror_mode": {
    "name": "ipython",
    "version": 3
   },
   "file_extension": ".py",
   "mimetype": "text/x-python",
   "name": "python",
   "nbconvert_exporter": "python",
   "pygments_lexer": "ipython3",
   "version": "3.7.7"
  }
 },
 "nbformat": 4,
 "nbformat_minor": 4
}
